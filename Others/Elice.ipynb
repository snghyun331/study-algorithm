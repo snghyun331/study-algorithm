{
 "cells": [
  {
   "cell_type": "markdown",
   "metadata": {},
   "source": [
    "<span style=\"color:red\">**Q. 숫자를 3개 입력받아 가운데 값을 출력하라**</span><br>\n",
    "\n",
    "**입력예시**   \n",
    "```python\n",
    "1 3 2\n",
    "```\n",
    "**출력예시**\n",
    "```python\n",
    "2\n",
    "```"
   ]
  },
  {
   "cell_type": "code",
   "execution_count": 3,
   "metadata": {},
   "outputs": [
    {
     "name": "stdout",
     "output_type": "stream",
     "text": [
      "2\n"
     ]
    }
   ],
   "source": [
    "# 방법1\n",
    "import statistics\n",
    "\n",
    "my_list = list(map(int, input().split()))\n",
    "print(statistics.median(my_list))"
   ]
  },
  {
   "cell_type": "code",
   "execution_count": 4,
   "metadata": {},
   "outputs": [
    {
     "name": "stdout",
     "output_type": "stream",
     "text": [
      "2\n"
     ]
    }
   ],
   "source": [
    "# 방법2 \n",
    "my_list = list(map(int, input().split()))\n",
    "\n",
    "def get_median(List):\n",
    "    List.sort()\n",
    "    half_index = len(List) // 2\n",
    "    # 원소 개수가 짝수 일 경우\n",
    "    if len(List) % 2 == 0:\n",
    "        return (List[half_index-1] + List[half_index]) / 2\n",
    "    # 원소 개수가 홀수 일 경우\n",
    "    else:\n",
    "        return List[half_index]\n",
    "\n",
    "print(get_median(my_list))"
   ]
  },
  {
   "cell_type": "markdown",
   "metadata": {},
   "source": [
    "<span style=\"color:red\">**Q. 아픈 시점('웩')을 계산하여 그전까지 복통이 지속된 시간을 반환하는 ```vomit()``` 함수를 작성해라**</span><br>\n",
    "\n",
    "**입력예시**   \n",
    "```python\n",
    "print(vomit(['과자', '과자', '과자', '커피', '과자', '웩', '음료수', '음료수', '과자', '커피', '커피', '커피']))\n",
    "```\n",
    "**출력예시**\n",
    "```python\n",
    "5\n",
    "```"
   ]
  },
  {
   "cell_type": "code",
   "execution_count": 5,
   "metadata": {},
   "outputs": [
    {
     "name": "stdout",
     "output_type": "stream",
     "text": [
      "5\n"
     ]
    }
   ],
   "source": [
    "def vomit(food):\n",
    "    idx = food.index('웩')   # index('값') → 값에 해당하는 인덱스 반환\n",
    "    return idx\n",
    "\n",
    "# 값을 확인하기 위한 코드입니다. 값을 변경해가며 테스트해 보세요!\n",
    "print(vomit(['과자', '과자', '과자', '커피', '과자', '웩', '음료수', '음료수', '과자', '커피', '커피', '커피']))"
   ]
  },
  {
   "cell_type": "markdown",
   "metadata": {},
   "source": [
    "<span style=\"color:red\">**Q. 구슬 꾸러미 무게(구슬 총 무게)를 입력받고, 꾸러미를 만드는 데 사용되는 최소 구슬의 수를 출력해라**</span><br>\n",
    "* **만약 무게에 맞추어 꾸러미를 만들 수 없는 경우에는 ```-1```을 출력해라**\n",
    "* **빨간 구슬: 250g, 파란 구슬: 40g, 흰 구슬: 10g**\n",
    "* **예를 들어 300g의 꾸러미를 만들기 위해서는 빨간 구슬 1개, 파란 구슬 1개, 흰 구슬 1개로 최소 3개의 구슬이 필요**\n",
    "\n",
    "**입력예시1**   \n",
    "```python\n",
    "550\n",
    "```\n",
    "**출력예시1**\n",
    "```python\n",
    "4\n",
    "```\n",
    "**입력예시2**   \n",
    "```python\n",
    "65\n",
    "```\n",
    "**출력예시2**\n",
    "```python\n",
    "-1\n",
    "```"
   ]
  },
  {
   "cell_type": "code",
   "execution_count": 8,
   "metadata": {},
   "outputs": [
    {
     "name": "stdout",
     "output_type": "stream",
     "text": [
      "4\n"
     ]
    }
   ],
   "source": [
    "weight = int(input())\n",
    "marbels = [250, 40, 10]\n",
    "# marbles.reverse()  # 큰 값을 제일 앞으로\n",
    "ans = 0\n",
    "for marble in marbels:\n",
    "    ans  = ans + (weight // marble)\n",
    "    weight = weight % marble\n",
    "    if (marble == marbels[-1]) & (weight != 0):\n",
    "        ans = -1\n",
    "    # print(f'marble:{marble}, weight:{weight}, ans:{ans}')\n",
    "\n",
    "print(ans)"
   ]
  },
  {
   "cell_type": "markdown",
   "metadata": {},
   "source": [
    "<span style=\"color:red\">**Q. 문자열 앞뒤 검사하기**</span><br>\n",
    "* **문자를 입력받고 문자열의 앞에서 i번째 문자와 뒤에서 i번째 문자가 같은지 비교한 후 두 문자가 같다면 ```Same```을, 다르다면 ```Different```을 출력**\n",
    "* **문자열은 알파벳 소문자로만 이루어져 있고 길이는 반드시 짝수이다**\n",
    "\n",
    "**입력예시1**   \n",
    "```python\n",
    "abcdba\n",
    "```\n",
    "**출력예시1**\n",
    "```python\n",
    "Same\n",
    "Same\n",
    "Different\n",
    "```"
   ]
  },
  {
   "cell_type": "code",
   "execution_count": 9,
   "metadata": {},
   "outputs": [
    {
     "name": "stdout",
     "output_type": "stream",
     "text": [
      "Same\n",
      "Same\n",
      "Different\n"
     ]
    }
   ],
   "source": [
    "mystr = input()\n",
    "\n",
    "for i in range(len(mystr)//2):\n",
    "    if mystr[i] == mystr[len(mystr) - i - 1]:\n",
    "        print('Same')\n",
    "    else:\n",
    "        print('Different')"
   ]
  },
  {
   "cell_type": "markdown",
   "metadata": {},
   "source": [
    "<span style=\"color:red\">**Q. 입력받은 손님 수 만큼 주문한 메뉴의 총 가격을 출력하라**</span><br>\n",
    "* **손님은 음료명으로 주문한다.**\n",
    "* **아메리카노: 4100, 카페라떼: 4600, 카라멜마끼아또: 5100**\n",
    "\n",
    "**입력예시1**   \n",
    "```python\n",
    "3\n",
    "아메리카노\n",
    "카페라떼\n",
    "카라멜마끼아또\n",
    "```\n",
    "**출력예시1**\n",
    "```python\n",
    "13800\n",
    "```"
   ]
  },
  {
   "cell_type": "code",
   "execution_count": 2,
   "metadata": {},
   "outputs": [
    {
     "name": "stdout",
     "output_type": "stream",
     "text": [
      "13800\n"
     ]
    }
   ],
   "source": [
    "guests = int(input())  # 손님 수를 입력\n",
    "baverages = [input() for _ in range(guests)]  # 입력한 손님 수 만큼 주문한 음료를 차례로 입력\n",
    "mylist = []   # 주문한 메뉴의 가격을 담을 리스트 생성\n",
    "for baverage in baverages:\n",
    "    if baverage == '아메리카노':\n",
    "        mylist.append(4100)\n",
    "    elif baverage == '카페라떼':\n",
    "        mylist.append(4600)\n",
    "    else:\n",
    "        mylist.append(5100)\n",
    "    \n",
    "print(sum(mylist))\n"
   ]
  },
  {
   "cell_type": "markdown",
   "metadata": {},
   "source": [
    "<span style=\"color:red\">**Q. A, B, C가 각각 지불해야하는 금액을 출력하는 프로그램을 작성해라**</span><br>\n",
    "* **1. ``menu``라는 딕셔너리에 메뉴명을 키로, 메뉴의 가격을 값으로 저장되어있다.**\n",
    "* **2. 이들이 주문한 내역은 ```먹은사람,메뉴이름,수량```의 형태로 사용자로부터 입력받는다. 만약 세명이 다같이 먹은 메뉴라면 ```K```라고 표시한다.**\n",
    "* **3. ```-1```을 입력하면 입력을 중단한다.**\n",
    "* **4. 각자 지불할 금액을 계산하여 출력한다.**\n",
    "* **(주의)```k```는 3으로 나누어 떨어지는지 여부 체크 안해도 됨**\n",
    "\n",
    "\n",
    "**입력예시1**   \n",
    "```python\n",
    "A,라면,1\n",
    "B,김밥,2\n",
    "B,떡볶이,1\n",
    "K,튀김세트,1\n",
    "A,콜라,1\n",
    "-1\n",
    "```\n",
    "**출력예시1**\n",
    "```python\n",
    "A 8000\n",
    "B 10000\n",
    "C 1000\n",
    "```"
   ]
  },
  {
   "cell_type": "code",
   "execution_count": 3,
   "metadata": {},
   "outputs": [
    {
     "name": "stdout",
     "output_type": "stream",
     "text": [
      "A 8000\n",
      "B 10000\n",
      "C 1000\n"
     ]
    }
   ],
   "source": [
    "menu={\"떡볶이\":5000,\n",
    "\"김밥\":2000,\n",
    "\"튀김세트\":3000,\n",
    "\"순대\":4000,\n",
    "\"라면\":6000,\n",
    "\"콜라\":1000,\n",
    "\"사이다\":1000\n",
    "}\n",
    "\n",
    "a=0 # A가 먹은 금액\n",
    "b=0 # B가 먹은 금액\n",
    "c=0 # C가 먹은 금액\n",
    "k=0 # 함께 먹은 금액\n",
    "\n",
    "while True:\n",
    "    # 지시사항 2번, 3번\n",
    "    mystr = input()\n",
    "    if mystr == '-1':\n",
    "        break\n",
    "\n",
    "    Man = mystr.split(',')[0]\n",
    "    Menu = mystr.split(',')[1]\n",
    "    cnt = int(mystr.split(',')[2])\n",
    "\n",
    "    if Man == 'A':\n",
    "        a += (menu[Menu] * cnt)\n",
    "    elif Man == 'B':\n",
    "        b += (menu[Menu] * cnt)\n",
    "    elif Man == 'C':\n",
    "        c += (menu[Menu] * cnt)\n",
    "    else:  # Man == 'K'\n",
    "        k += (menu[Menu] * cnt)\n",
    "\n",
    "# 지시사항 4번\n",
    "k = k // 3   # 함께 먹은 금액은 세명이 동등하게 나누어 냄\n",
    "\n",
    "a+=k\n",
    "b+=k\n",
    "c+=k\n",
    "\n",
    "print ('A',a)\n",
    "print ('B',b)\n",
    "print ('C',c)"
   ]
  },
  {
   "cell_type": "markdown",
   "metadata": {},
   "source": [
    "<span style=\"color:red\">**Q. 겹치는 구간 찾기**</span><br>\n",
    "* **1. 네 줄에 걸쳐 0이상의 정수를 입력 받으세요**\n",
    "    * 첫번째 줄에는 구간 A의 최솟값이 입력\n",
    "    * 두번째 줄에는 구간 A의 최댓값이 입력\n",
    "    * 세번째 줄에는 구간 B의 최솟값이 입력\n",
    "    * 네번째 줄에는 구간 B의 최댓값이 입력\n",
    "* **2. 구간 A와 B, 두 구간에 겹치는 부분의 최솟값과 최댓값을 공백으로 구분하려 출력하라**\n",
    "    * 최솟값과 최댓값이 동일한 경우 해당 구간은 겹치는 구간에 포함됨\n",
    "    * 만역 두 구간이 겹치지 않는다면 ```X```를 출력해라\n",
    "\n",
    "\n",
    "**입력예시1**   \n",
    "```python\n",
    "3\n",
    "7\n",
    "5\n",
    "9\n",
    "```\n",
    "**출력예시1**\n",
    "```python\n",
    "5 7\n",
    "```\n",
    "**입력예시2**   \n",
    "```python\n",
    "0\n",
    "10\n",
    "3\n",
    "8\n",
    "```\n",
    "**출력예시2**\n",
    "```python\n",
    "3 8\n",
    "```\n",
    "**입력예시3**   \n",
    "```python\n",
    "7\n",
    "9\n",
    "0\n",
    "3\n",
    "```\n",
    "**출력예시3**\n",
    "```python\n",
    "X\n",
    "```"
   ]
  },
  {
   "cell_type": "markdown",
   "metadata": {},
   "source": [
    "<span style=\"color:blue\">**[ 풀이과정 ]**</span><br> \n",
    "**※ 보다 간결한 설계를 위해, A1은 반드시 B1보다 작거나 같게 설정 (밑의 코드 참고)**\n",
    "1. ( A1 < B1 ) & ( A2 < B2 )일 때,\n",
    "  - A2 < B1  ```(1,5)(7,9)```\n",
    "  - A2 > B1  ```(1,4)(3,6)```\n",
    "  - A2 = B1  ```(1,3)(3,6)```\n",
    "2. ( A1 = B1 ) & ( A2 < B2 )일 때, ```(1,5)(1,9)```\n",
    "3. ( A1 < B1 ) & ( A2 > B2 )일 때, ```(4,7)(5,6)```\n",
    "4. ( A1 = B1 ) & ( A2 > B2 )일 때, ```(4,7)(4,6)```\n",
    "5. ( A1 < B1 ) & ( A2 = B2 )일 때, ```(4,7)(5,7)```\n",
    "6. ( A1 = B1 ) & ( A2 = B2 )일 때, ```(4,7)(4,7)```"
   ]
  },
  {
   "cell_type": "code",
   "execution_count": 1,
   "metadata": {},
   "outputs": [
    {
     "name": "stdout",
     "output_type": "stream",
     "text": [
      "0\n",
      "10\n",
      "3\n",
      "8\n",
      "3 8\n"
     ]
    }
   ],
   "source": [
    "List = [int(input()) for i in range(4)]\n",
    "\n",
    "# 보다 간결한 설계를 위해, A1은 반드시 B1보다 작거나 같아야한다고 가정\n",
    "if  List[0] > List[2]:   # A1값 > B1값 일 경우, A1와 B1의 순서를 뒤바뀌어, A1 <= B1이 성립하도록 한다.\n",
    "    A_first = List[2]\n",
    "    A_last = List[3]\n",
    "    B_first = List[0]\n",
    "    B_last = List[1]\n",
    "else:                    # A1값 <= B1값 일 경우, 입력된 순서 그대로 진행한다.\n",
    "    A_first = List[0]\n",
    "    A_last = List[1]\n",
    "    B_first = List[2]\n",
    "    B_last = List[3]\n",
    "# -----------------------------------------------------------\n",
    "\n",
    "if (A_first < B_first) & (A_last < B_last):  # ( A1 < B1 ) & ( A2 < B2 )\n",
    "    if A_last < B_first:                     # A2 < B1\n",
    "        print('X')\n",
    "    elif A_last > B_first:                   # A2 < B1\n",
    "        print(B_first, A_last)\n",
    "    else:                                    # A_last == B_first (A2 = B1)\n",
    "        print(A_last, B_first)\n",
    "\n",
    "elif (A_first == B_first) & (A_last < B_last):  # ( A1 = B1 ) & ( A2 < B2 )\n",
    "    print(A_first, A_last)\n",
    "\n",
    "elif (A_first < B_first) & (A_last > B_last):   # ( A1 < B1 ) & ( A2 > B2 )\n",
    "    print(B_first, B_last)\n",
    "\n",
    "elif (A_first == B_first) & (A_last > B_last):  # ( A1 = B1 ) & ( A2 > B2 )\n",
    "    print(B_first, B_last)\n",
    "\n",
    "elif (A_first < B_first) & (A_last == B_last):  # ( A1 < B1 ) & ( A2 = B2 )\n",
    "    print(B_first, B_last)\n",
    "\n",
    "elif (A_first == B_first) & (A_last == B_last): # ( A1 = B1 ) & ( A2 = B2 )\n",
    "    print(A_first, A_last)"
   ]
  },
  {
   "cell_type": "markdown",
   "metadata": {},
   "source": [
    "<span style=\"color:red\">**Q. 1~10000까지의 수 중 8의 개수를 세어라**</span><br>\n",
    "* **숫자 8888은 8이 4개로 이루어져있다.**\n",
    "    \n",
    "**출력예시**\n",
    "```python\n",
    "# 범위를 1~20로 가정했을 때 8의 개수\n",
    "# 8, 18\n",
    "2\n",
    "```"
   ]
  },
  {
   "cell_type": "code",
   "execution_count": 1,
   "metadata": {},
   "outputs": [
    {
     "name": "stdout",
     "output_type": "stream",
     "text": [
      "4000\n"
     ]
    }
   ],
   "source": [
    "count = 0\n",
    "for i in range(1,10001):\n",
    "    i_str = str(i)  # 정수형을 문자형으로 변환\n",
    "    if '8' in i_str:  # 8을 포함한 정수에 해당하면,..\n",
    "        for j in range(len(i_str)):\n",
    "            if '8' in i_str[j]:  # 정수를 분리시킨다.\n",
    "                count += 1\n",
    "    else:\n",
    "        pass\n",
    "\n",
    "print(count)"
   ]
  },
  {
   "cell_type": "code",
   "execution_count": null,
   "metadata": {},
   "outputs": [],
   "source": []
  }
 ],
 "metadata": {
  "kernelspec": {
   "display_name": "Python 3 (ipykernel)",
   "language": "python",
   "name": "python3"
  },
  "language_info": {
   "codemirror_mode": {
    "name": "ipython",
    "version": 3
   },
   "file_extension": ".py",
   "mimetype": "text/x-python",
   "name": "python",
   "nbconvert_exporter": "python",
   "pygments_lexer": "ipython3",
   "version": "3.9.7"
  },
  "vscode": {
   "interpreter": {
    "hash": "ad2bdc8ecc057115af97d19610ffacc2b4e99fae6737bb82f5d7fb13d2f2c186"
   }
  }
 },
 "nbformat": 4,
 "nbformat_minor": 2
}
