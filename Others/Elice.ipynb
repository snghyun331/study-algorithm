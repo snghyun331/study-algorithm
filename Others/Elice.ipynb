{
 "cells": [
  {
   "attachments": {},
   "cell_type": "markdown",
   "metadata": {},
   "source": [
    "<span style=\"color:red\">**Q. 숫자를 3개 입력받아 가운데 값을 출력하라**</span><br>\n",
    "\n",
    "**입력예시**   \n",
    "```python\n",
    "1 3 2\n",
    "```\n",
    "**출력예시**\n",
    "```python\n",
    "2\n",
    "```"
   ]
  },
  {
   "cell_type": "code",
   "execution_count": 3,
   "metadata": {},
   "outputs": [
    {
     "name": "stdout",
     "output_type": "stream",
     "text": [
      "2\n"
     ]
    }
   ],
   "source": [
    "# 방법1\n",
    "import statistics\n",
    "\n",
    "my_list = list(map(int, input().split()))\n",
    "print(statistics.median(my_list))"
   ]
  },
  {
   "cell_type": "code",
   "execution_count": 4,
   "metadata": {},
   "outputs": [
    {
     "name": "stdout",
     "output_type": "stream",
     "text": [
      "2\n"
     ]
    }
   ],
   "source": [
    "# 방법2 \n",
    "my_list = list(map(int, input().split()))\n",
    "\n",
    "def get_median(List):\n",
    "    List.sort()\n",
    "    half_index = len(List) // 2\n",
    "    # 원소 개수가 짝수 일 경우\n",
    "    if len(List) % 2 == 0:\n",
    "        return (List[half_index-1] + List[half_index]) / 2\n",
    "    # 원소 개수가 홀수 일 경우\n",
    "    else:\n",
    "        return List[half_index]\n",
    "\n",
    "print(get_median(my_list))"
   ]
  },
  {
   "attachments": {},
   "cell_type": "markdown",
   "metadata": {},
   "source": [
    "<span style=\"color:red\">**Q. 아픈 시점('웩')을 계산하여 그전까지 복통이 지속된 시간을 반환하는 ```vomit()``` 함수를 작성해라**</span><br>\n",
    "\n",
    "**입력예시**   \n",
    "```python\n",
    "print(vomit(['과자', '과자', '과자', '커피', '과자', '웩', '음료수', '음료수', '과자', '커피', '커피', '커피']))\n",
    "```\n",
    "**출력예시**\n",
    "```python\n",
    "5\n",
    "```"
   ]
  },
  {
   "cell_type": "code",
   "execution_count": 5,
   "metadata": {},
   "outputs": [
    {
     "name": "stdout",
     "output_type": "stream",
     "text": [
      "5\n"
     ]
    }
   ],
   "source": [
    "def vomit(food):\n",
    "    idx = food.index('웩')   # index('값') → 값에 해당하는 인덱스 반환\n",
    "    return idx\n",
    "\n",
    "# 값을 확인하기 위한 코드입니다. 값을 변경해가며 테스트해 보세요!\n",
    "print(vomit(['과자', '과자', '과자', '커피', '과자', '웩', '음료수', '음료수', '과자', '커피', '커피', '커피']))"
   ]
  },
  {
   "attachments": {},
   "cell_type": "markdown",
   "metadata": {},
   "source": [
    "<span style=\"color:red\">**Q. 구슬 꾸러미 무게(구슬 총 무게)를 입력받고, 꾸러미를 만드는 데 사용되는 최소 구슬의 수를 출력해라**</span><br>\n",
    "* **만약 무게에 맞추어 꾸러미를 만들 수 없는 경우에는 ```-1```을 출력해라**\n",
    "* **빨간 구슬: 250g, 파란 구슬: 40g, 흰 구슬: 10g**\n",
    "* **예를 들어 300g의 꾸러미를 만들기 위해서는 빨간 구슬 1개, 파란 구슬 1개, 흰 구슬 1개로 최소 3개의 구슬이 필요**\n",
    "\n",
    "**입력예시1**   \n",
    "```python\n",
    "550\n",
    "```\n",
    "**출력예시1**\n",
    "```python\n",
    "4\n",
    "```\n",
    "**입력예시2**   \n",
    "```python\n",
    "65\n",
    "```\n",
    "**출력예시2**\n",
    "```python\n",
    "-1\n",
    "```"
   ]
  },
  {
   "cell_type": "code",
   "execution_count": 8,
   "metadata": {},
   "outputs": [
    {
     "name": "stdout",
     "output_type": "stream",
     "text": [
      "4\n"
     ]
    }
   ],
   "source": [
    "weight = int(input())\n",
    "marbels = [250, 40, 10]\n",
    "# marbles.reverse()  # 큰 값을 제일 앞으로\n",
    "ans = 0\n",
    "for marble in marbels:\n",
    "    ans  = ans + (weight // marble)\n",
    "    weight = weight % marble\n",
    "    if (marble == marbels[-1]) & (weight != 0):\n",
    "        ans = -1\n",
    "    # print(f'marble:{marble}, weight:{weight}, ans:{ans}')\n",
    "\n",
    "print(ans)"
   ]
  },
  {
   "attachments": {},
   "cell_type": "markdown",
   "metadata": {},
   "source": [
    "<span style=\"color:red\">**Q. 문자열 앞뒤 검사하기**</span><br>\n",
    "* **문자를 입력받고 문자열의 앞에서 i번째 문자와 뒤에서 i번째 문자가 같은지 비교한 후 두 문자가 같다면 ```Same```을, 다르다면 ```Different```을 출력**\n",
    "* **문자열은 알파벳 소문자로만 이루어져 있고 길이는 반드시 짝수이다**\n",
    "\n",
    "**입력예시1**   \n",
    "```python\n",
    "abcdba\n",
    "```\n",
    "**출력예시1**\n",
    "```python\n",
    "Same\n",
    "Same\n",
    "Different\n",
    "```"
   ]
  },
  {
   "cell_type": "code",
   "execution_count": 9,
   "metadata": {},
   "outputs": [
    {
     "name": "stdout",
     "output_type": "stream",
     "text": [
      "Same\n",
      "Same\n",
      "Different\n"
     ]
    }
   ],
   "source": [
    "mystr = input()\n",
    "\n",
    "for i in range(len(mystr)//2):\n",
    "    if mystr[i] == mystr[len(mystr) - i - 1]:\n",
    "        print('Same')\n",
    "    else:\n",
    "        print('Different')"
   ]
  },
  {
   "attachments": {},
   "cell_type": "markdown",
   "metadata": {},
   "source": [
    "(중급 5번부터)"
   ]
  },
  {
   "cell_type": "code",
   "execution_count": null,
   "metadata": {},
   "outputs": [],
   "source": []
  }
 ],
 "metadata": {
  "kernelspec": {
   "display_name": "base",
   "language": "python",
   "name": "python3"
  },
  "language_info": {
   "codemirror_mode": {
    "name": "ipython",
    "version": 3
   },
   "file_extension": ".py",
   "mimetype": "text/x-python",
   "name": "python",
   "nbconvert_exporter": "python",
   "pygments_lexer": "ipython3",
   "version": "3.9.7"
  },
  "orig_nbformat": 4,
  "vscode": {
   "interpreter": {
    "hash": "ad2bdc8ecc057115af97d19610ffacc2b4e99fae6737bb82f5d7fb13d2f2c186"
   }
  }
 },
 "nbformat": 4,
 "nbformat_minor": 2
}
