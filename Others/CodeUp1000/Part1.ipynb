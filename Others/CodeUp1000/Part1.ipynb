{
 "cells": [
  {
   "cell_type": "code",
   "execution_count": 3,
   "id": "395fdfb0",
   "metadata": {},
   "outputs": [
    {
     "name": "stdout",
     "output_type": "stream",
     "text": [
      "'Hello'\n"
     ]
    }
   ],
   "source": [
    "#6004\n",
    "print(\"'Hello'\")"
   ]
  },
  {
   "cell_type": "code",
   "execution_count": 6,
   "id": "9fa7686c",
   "metadata": {},
   "outputs": [
    {
     "name": "stdout",
     "output_type": "stream",
     "text": [
      "\"Hello World\"\n"
     ]
    }
   ],
   "source": [
    "#6005\n",
    "print(\"\\\"Hello World\\\"\")"
   ]
  },
  {
   "cell_type": "code",
   "execution_count": 9,
   "id": "886a2510",
   "metadata": {},
   "outputs": [
    {
     "name": "stdout",
     "output_type": "stream",
     "text": [
      "\"!@#$%^&*()'\n"
     ]
    }
   ],
   "source": [
    "#6006\n",
    "print(\"\\\"!@#$%^&*()'\")"
   ]
  },
  {
   "cell_type": "code",
   "execution_count": 12,
   "id": "ec6a7251",
   "metadata": {},
   "outputs": [
    {
     "name": "stdout",
     "output_type": "stream",
     "text": [
      "\"C:\\Download\\'hello'.py\"\n"
     ]
    }
   ],
   "source": [
    "#6007\n",
    "print(\"\\\"C:\\Download\\\\'hello'.py\\\"\")"
   ]
  },
  {
   "cell_type": "code",
   "execution_count": 13,
   "id": "f0cdcd41",
   "metadata": {},
   "outputs": [
    {
     "name": "stdout",
     "output_type": "stream",
     "text": [
      "a\n",
      "a\n"
     ]
    }
   ],
   "source": [
    "#6009\n",
    "s = input()\n",
    "print(s)"
   ]
  },
  {
   "cell_type": "code",
   "execution_count": 15,
   "id": "01c9e931",
   "metadata": {},
   "outputs": [
    {
     "name": "stdout",
     "output_type": "stream",
     "text": [
      "1\n",
      "2\n",
      "1\n",
      "2\n"
     ]
    }
   ],
   "source": [
    "#6012\n",
    "n1 = int(input())\n",
    "n2 = int(input())\n",
    "print(n1)\n",
    "print(n2)"
   ]
  },
  {
   "cell_type": "code",
   "execution_count": 16,
   "id": "b32eefc8",
   "metadata": {},
   "outputs": [
    {
     "name": "stdout",
     "output_type": "stream",
     "text": [
      "1 2\n",
      "1\n",
      "2\n"
     ]
    }
   ],
   "source": [
    "#6015\n",
    "n1, n2 = map(int, input().split())\n",
    "print(n1)\n",
    "print(n2)"
   ]
  },
  {
   "cell_type": "code",
   "execution_count": 17,
   "id": "d960ced3",
   "metadata": {},
   "outputs": [
    {
     "name": "stdout",
     "output_type": "stream",
     "text": [
      "a b\n",
      "b a\n"
     ]
    }
   ],
   "source": [
    "#6016\n",
    "s1, s2 = input().split()\n",
    "print(s2,s1)"
   ]
  },
  {
   "cell_type": "code",
   "execution_count": 20,
   "id": "4d8f3dfb",
   "metadata": {},
   "outputs": [
    {
     "name": "stdout",
     "output_type": "stream",
     "text": [
      "computer science\n",
      "computer science computer science computer science\n"
     ]
    }
   ],
   "source": [
    "#6017\n",
    "s = input()\n",
    "print(s,s,s)"
   ]
  },
  {
   "cell_type": "code",
   "execution_count": 21,
   "id": "db15d690",
   "metadata": {},
   "outputs": [
    {
     "name": "stdout",
     "output_type": "stream",
     "text": [
      "3:16\n",
      "3:16\n"
     ]
    }
   ],
   "source": [
    "#6018\n",
    "t = input()\n",
    "print(t)"
   ]
  },
  {
   "cell_type": "code",
   "execution_count": 22,
   "id": "311ae0d3",
   "metadata": {},
   "outputs": [
    {
     "name": "stdout",
     "output_type": "stream",
     "text": [
      "2020.3.4\n",
      "4-3-2020\n"
     ]
    }
   ],
   "source": [
    "#6019\n",
    "t1, t2, t3 = input().split('.')\n",
    "print(t3+'-'+t2+'-'+t1)"
   ]
  },
  {
   "cell_type": "code",
   "execution_count": 26,
   "id": "5e5956fc",
   "metadata": {},
   "outputs": [
    {
     "name": "stdout",
     "output_type": "stream",
     "text": [
      "2020.3.4\n",
      "4-3-2020\n"
     ]
    }
   ],
   "source": [
    "t1, t2, t3 = input().split('.')\n",
    "t_list = []\n",
    "t_list.append(t3)\n",
    "t_list.append(t2)\n",
    "t_list.append(t1)\n",
    "print('-'.join(t_list))"
   ]
  },
  {
   "cell_type": "markdown",
   "id": "29ca893a",
   "metadata": {},
   "source": [
    "코드 길이는 두번쨰 것이 더 기나, 소요시간은 첫번째보다 1초 빠름 (메모리는 같음)"
   ]
  },
  {
   "cell_type": "code",
   "execution_count": 27,
   "id": "42a56b5c",
   "metadata": {},
   "outputs": [
    {
     "name": "stdout",
     "output_type": "stream",
     "text": [
      "000331-4213815\n",
      "0003314213815\n"
     ]
    }
   ],
   "source": [
    "#6020\n",
    "s1, s2 = input().split('-')\n",
    "print(s1 + s2)"
   ]
  },
  {
   "cell_type": "code",
   "execution_count": 28,
   "id": "012b0151",
   "metadata": {},
   "outputs": [
    {
     "name": "stdout",
     "output_type": "stream",
     "text": [
      "000331-4213815\n",
      "0003314213815\n"
     ]
    }
   ],
   "source": [
    "s = input()\n",
    "print(s.replace('-',''))\n",
    "\n",
    "# 가장 선호 (코드길이 가장 짧음)"
   ]
  },
  {
   "cell_type": "code",
   "execution_count": 29,
   "id": "008cb34d",
   "metadata": {},
   "outputs": [
    {
     "name": "stdout",
     "output_type": "stream",
     "text": [
      "000331-4213815\n",
      "0003314213815\n"
     ]
    }
   ],
   "source": [
    "import re\n",
    "\n",
    "s = input()\n",
    "print(re.sub(\"-\",\"\",s))\n",
    "\n",
    "# 가장 비추(소요시간..어우)"
   ]
  },
  {
   "cell_type": "code",
   "execution_count": 33,
   "id": "b999c61c",
   "metadata": {},
   "outputs": [
    {
     "name": "stdout",
     "output_type": "stream",
     "text": [
      "17:23:57\n",
      "23\n"
     ]
    }
   ],
   "source": [
    "#6023\n",
    "h,m,s = input().split(':')\n",
    "print(m)\n",
    "\n",
    "# 요거 선호 (코드길이 짧음)"
   ]
  },
  {
   "cell_type": "code",
   "execution_count": 35,
   "id": "88dfbe01",
   "metadata": {},
   "outputs": [
    {
     "name": "stdout",
     "output_type": "stream",
     "text": [
      "17:23:57\n",
      "23\n"
     ]
    }
   ],
   "source": [
    "h,m,s = input().split(':')\n",
    "time = []\n",
    "time.append(h)\n",
    "time.append(m)\n",
    "time.append(s)\n",
    "print(time[1])"
   ]
  },
  {
   "cell_type": "code",
   "execution_count": 31,
   "id": "757eaea7",
   "metadata": {},
   "outputs": [
    {
     "name": "stdout",
     "output_type": "stream",
     "text": [
      "0.1\n",
      "0.9\n",
      "1.0\n",
      "<class 'float'>\n"
     ]
    }
   ],
   "source": [
    "#6026\n",
    "f1 = float(input())\n",
    "f2 = float(input())\n",
    "print(f1+f2)"
   ]
  },
  {
   "cell_type": "code",
   "execution_count": 2,
   "id": "54b23c25",
   "metadata": {},
   "outputs": [
    {
     "name": "stdout",
     "output_type": "stream",
     "text": [
      "a\n",
      "b\n"
     ]
    }
   ],
   "source": [
    "#6032 문자 1개를 입력받아 다음 순서의 문자를 출력\n",
    "s = input()\n",
    "n = ord(s)  \n",
    "print(chr(n+1))"
   ]
  },
  {
   "cell_type": "code",
   "execution_count": 10,
   "id": "91c59043",
   "metadata": {},
   "outputs": [
    {
     "name": "stdout",
     "output_type": "stream",
     "text": [
      "1 2 3\n",
      "6 2.00\n"
     ]
    }
   ],
   "source": [
    "#6045\n",
    "n1, n2, n3 = map(int, input().split())\n",
    "print(n1+n2+n3, '%.2f'%((n1+n2+n3)/3))"
   ]
  },
  {
   "cell_type": "code",
   "execution_count": 11,
   "id": "f723df88",
   "metadata": {},
   "outputs": [
    {
     "name": "stdout",
     "output_type": "stream",
     "text": [
      "1 2 3\n",
      "6 2.0\n"
     ]
    }
   ],
   "source": [
    "n1, n2, n3 = map(int, input().split())\n",
    "print(n1+n2+n3, round((n1+n2+n3)/3,2))"
   ]
  },
  {
   "cell_type": "code",
   "execution_count": 20,
   "id": "cda01649",
   "metadata": {},
   "outputs": [
    {
     "name": "stdout",
     "output_type": "stream",
     "text": [
      "5 5\n",
      "3\n",
      "2 0 1 1\n",
      "3 1 2 3\n",
      "4 1 2 5\n",
      "\n",
      "\n",
      "[[1 1 0 0 0]\n",
      " [0 0 1 0 1]\n",
      " [0 0 1 0 1]\n",
      " [0 0 1 0 1]\n",
      " [0 0 0 0 1]]\n"
     ]
    }
   ],
   "source": [
    "#6097\n",
    "import numpy as np\n",
    "\n",
    "h, w = map(int, input().split())\n",
    "n = int(input())\n",
    "grid = [[0 for col in range(h)] for row in range(w)]  # 2차원 배열 선언\n",
    "grid = np.array(grid)\n",
    "\n",
    "for _ in range(n):\n",
    "    l,d,x,y = map(int, input().split())\n",
    "    for i in range(l):\n",
    "        if d == 0:\n",
    "            grid[x-1][y-1+i] = 1\n",
    "        elif d == 1:\n",
    "            grid[x-1+i][y-1] = 1\n",
    "\n",
    "print(\"\\n\")\n",
    "print(grid)"
   ]
  },
  {
   "cell_type": "markdown",
   "id": "bd7dc338",
   "metadata": {},
   "source": [
    " "
   ]
  },
  {
   "cell_type": "code",
   "execution_count": 21,
   "id": "1dd09d0b",
   "metadata": {},
   "outputs": [
    {
     "name": "stdout",
     "output_type": "stream",
     "text": [
      "5 5\n",
      "3\n",
      "2 0 1 1\n",
      "3 1 2 3\n",
      "4 1 2 5\n",
      "\n",
      "\n",
      "[[1, 1, 0, 0, 0], [0, 0, 1, 0, 1], [0, 0, 1, 0, 1], [0, 0, 1, 0, 1], [0, 0, 0, 0, 1]]\n"
     ]
    }
   ],
   "source": [
    "#numpy 선언 안해주면..\n",
    "\n",
    "h, w = map(int, input().split())\n",
    "n = int(input())\n",
    "grid = [[0 for col in range(h)] for row in range(w)]  # 2차원 배열 선언\n",
    "\n",
    "for _ in range(n):\n",
    "    l,d,x,y = map(int, input().split())\n",
    "    for i in range(l):\n",
    "        if d == 0:\n",
    "            grid[x-1][y-1+i] = 1\n",
    "        elif d == 1:\n",
    "            grid[x-1+i][y-1] = 1\n",
    "\n",
    "print(\"\\n\")\n",
    "print(grid)"
   ]
  },
  {
   "cell_type": "code",
   "execution_count": null,
   "id": "e0c3de88",
   "metadata": {},
   "outputs": [],
   "source": []
  }
 ],
 "metadata": {
  "kernelspec": {
   "display_name": "Python 3 (ipykernel)",
   "language": "python",
   "name": "python3"
  },
  "language_info": {
   "codemirror_mode": {
    "name": "ipython",
    "version": 3
   },
   "file_extension": ".py",
   "mimetype": "text/x-python",
   "name": "python",
   "nbconvert_exporter": "python",
   "pygments_lexer": "ipython3",
   "version": "3.9.7"
  }
 },
 "nbformat": 4,
 "nbformat_minor": 5
}
