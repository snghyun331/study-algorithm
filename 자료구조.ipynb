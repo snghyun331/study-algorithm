{
 "cells": [
  {
   "attachments": {},
   "cell_type": "markdown",
   "metadata": {},
   "source": [
    "### 우선순위 큐    \n",
    "(python은 Min-Heap 기준)"
   ]
  },
  {
   "cell_type": "code",
   "execution_count": 8,
   "metadata": {},
   "outputs": [
    {
     "name": "stdout",
     "output_type": "stream",
     "text": [
      "[-5, -3, 1, 10, 8]\n",
      "-5\n",
      "-3\n",
      "1\n",
      "8\n",
      "10\n"
     ]
    }
   ],
   "source": [
    "# from queue import PriorityQueue\n",
    "import heapq as hq\n",
    "\n",
    "pq = []\n",
    "hq.heappush(pq, 10)\n",
    "hq.heappush(pq, -5)\n",
    "hq.heappush(pq, 1)\n",
    "hq.heappush(pq, 8)\n",
    "hq.heappush(pq, -3)\n",
    "print(pq)\n",
    "while pq:\n",
    "    print(pq[0])  # 최상단 노드 (python에서는 최소값)\n",
    "    hq.heappop(pq)   # 최상단(root) 노드의 값을 뺀다"
   ]
  },
  {
   "attachments": {},
   "cell_type": "markdown",
   "metadata": {},
   "source": [
    "### 집합 (Set)\n",
    "중복값이 있으면 안됨"
   ]
  },
  {
   "cell_type": "code",
   "execution_count": 12,
   "metadata": {},
   "outputs": [
    {
     "name": "stdout",
     "output_type": "stream",
     "text": [
      "{10, 50, 70}\n",
      "{10, 70}\n"
     ]
    }
   ],
   "source": [
    "s = set()\n",
    "s.add(10)\n",
    "s.add(10)\n",
    "s.add(50)\n",
    "s.add(10)\n",
    "s.add(70)\n",
    "print(s)\n",
    "s.remove(50) # 특정값만 삭제\n",
    "print(s)\n",
    "\n",
    "# set에서는 pop메소드가 잘 안쓰여짐"
   ]
  },
  {
   "attachments": {},
   "cell_type": "markdown",
   "metadata": {},
   "source": [
    "## 실습"
   ]
  },
  {
   "attachments": {},
   "cell_type": "markdown",
   "metadata": {},
   "source": [
    "### **#2164 카드** \n",
    "https://www.acmicpc.net/problem/2164      \n",
    "<첫번째 방법>   \n",
    "1. 맨 앞의 값을 삭제 (삭제) O(N)\n",
    "2. 맨 앞의 값을 맨 뒤로 보내기 (삭제, 삽입)   \n",
    "→ 삽입 삭제 총 3번    \n",
    "→ (N-1) X O(3N) = O(3N^2 - 3N) = O(N^2)    \n",
    "→ 너무 큰 시간복잡도    \n",
    "\n",
    "<두번째 방법>\n",
    "큐    \n",
    "→ 큐의 삽입, 삭제 시간복잡도는 O(1)   \n",
    "→ 최종 시간 복잡도: O(N)"
   ]
  },
  {
   "cell_type": "code",
   "execution_count": 5,
   "metadata": {},
   "outputs": [
    {
     "name": "stdout",
     "output_type": "stream",
     "text": [
      "deque([1, 2, 3, 4, 5, 6])\n",
      "deque([4])\n"
     ]
    }
   ],
   "source": [
    "from collections import deque\n",
    "\n",
    "#1\n",
    "# N = int(input())\n",
    "# dq = deque()\n",
    "# for i in range(1, N+1):\n",
    "#     dq.append(i)\n",
    "# print(dq)\n",
    "\n",
    "#2\n",
    "N = int(input())\n",
    "dq = deque(range(1, N+1))    \n",
    "print(dq)\n",
    "\n",
    "# ↑ 첫번째 방법과 두번째 방법 결과는 같음\n",
    "\n",
    "while len(dq) > 1:\n",
    "    dq.popleft()   # 맨 위값(첫번째값)을 빼준다\n",
    "    dq.append(dq.popleft())  # 두번째 값을 빼주고, 그 값을 마지막 위치로 옮긴다.\n",
    "print(dq)\n",
    "    "
   ]
  },
  {
   "cell_type": "code",
   "execution_count": 6,
   "metadata": {},
   "outputs": [
    {
     "name": "stdout",
     "output_type": "stream",
     "text": [
      "4\n"
     ]
    }
   ],
   "source": [
    "# 정답 (input: 6)\n",
    "from collections import deque\n",
    "\n",
    "N = int(input())\n",
    "dq = deque(range(1, N+1))    \n",
    "\n",
    "while len(dq) > 1:\n",
    "    dq.popleft()   # 맨 위값(첫번째값)을 빼준다\n",
    "    dq.append(dq.popleft())  # 두번째 값을 빼주고, 그 값을 마지막 위치로 옮긴다.\n",
    "\n",
    "print(dq.popleft())\n",
    "    "
   ]
  },
  {
   "cell_type": "code",
   "execution_count": 7,
   "metadata": {},
   "outputs": [
    {
     "name": "stdout",
     "output_type": "stream",
     "text": [
      "475712\n"
     ]
    }
   ],
   "source": [
    "# 정답 (input: 500000)\n",
    "from collections import deque\n",
    "\n",
    "N = int(input())\n",
    "dq = deque(range(1, N+1))    \n",
    "\n",
    "while len(dq) > 1:\n",
    "    dq.popleft()   # 맨 위값(첫번째값)을 빼준다\n",
    "    dq.append(dq.popleft())  # 두번째 값을 빼주고, 그 값을 마지막 위치로 옮긴다.\n",
    "\n",
    "print(dq.popleft())\n",
    "    "
   ]
  },
  {
   "attachments": {},
   "cell_type": "markdown",
   "metadata": {},
   "source": [
    "### **#11286 절대값 힙**\n",
    "https://www.acmicpc.net/problem/11286           \n",
    "- 배열에서 절댓값이 가장 작은 값을 출력하고, 그 값을 배열에서 제거한다\n",
    "- x(input값)가 0이 아니라면 배열에 x라는 값을 삽입(추가)하는 연산이고, x가 0이라면 배열에서 절댓값이 가장 작은 값을 출력하고 그 값을 배열에서 제거\n",
    "- <U>절댓값이 가장 작은 값이 여러개일 때는, 가장 작은 수를 출력하고, 그 값을 배열에서 제거</U>\n"
   ]
  },
  {
   "cell_type": "code",
   "execution_count": null,
   "metadata": {},
   "outputs": [],
   "source": [
    "import heapq as hq\n",
    "\n",
    "# input = sys.stdin.readline\n",
    "N = int(input())\n",
    "\n",
    "pq = []\n",
    "for _ in range(N):\n",
    "    x = int(input())\n",
    "    if x:\n",
    "       hq.heappush(pq, (abs(x),x))   # 절대값, 원본값 비교\n",
    "    else:   # x = 0일 때\n",
    "        hq.heappop(pq)\n",
    "# 추후.."
   ]
  },
  {
   "attachments": {},
   "cell_type": "markdown",
   "metadata": {},
   "source": [
    "### **#1302 베스트셀러**\n",
    "https://www.acmicpc.net/problem/1302        \n",
    "어떤 책들이 각각 몇권 팔렸는지 기록하고, 팔린 권 수 비교  \n",
    "→ 맵(딕셔너리)"
   ]
  },
  {
   "cell_type": "code",
   "execution_count": 12,
   "metadata": {},
   "outputs": [
    {
     "name": "stdout",
     "output_type": "stream",
     "text": [
      "{'a': 3, 'b': 3}\n",
      "3\n",
      "a\n"
     ]
    }
   ],
   "source": [
    "d = dict()\n",
    "for _ in range(int(input())):\n",
    "    book = input()\n",
    "    if book in d:   # 이미 딕셔너리에 book이 저장되어있으면,\n",
    "        d[book] += 1   # value(권 수)를 1증가\n",
    "    else:   # 새로 들어온 책이면,\n",
    "        d[book] = 1\n",
    "\n",
    "print(d)\n",
    "\n",
    "# d.keys()  key값만 모아서 반환\n",
    "# d.values()  value값만 모아서 반환\n",
    "# d.items()  key, value 묶어서 전부 반환\n",
    "m = max(d.values())\n",
    "print(m)\n",
    "\n",
    "candidate = []\n",
    "for k, v in d.items():\n",
    "    if v == m:\n",
    "        candidate.append(k)\n",
    "\n",
    "# print(sorted(candidate)[0])\n",
    "candidate.sort()\n",
    "print(candidate[0])\n",
    "        "
   ]
  },
  {
   "cell_type": "code",
   "execution_count": 13,
   "metadata": {},
   "outputs": [
    {
     "name": "stdout",
     "output_type": "stream",
     "text": [
      "a\n"
     ]
    }
   ],
   "source": [
    "# 정답\n",
    "d = dict()\n",
    "for _ in range(int(input())):\n",
    "    book = input()\n",
    "    if book in d:   # 이미 딕셔너리에 book이 저장되어있으면,\n",
    "        d[book] += 1   # value(권 수)를 1증가\n",
    "    else:   # 새로 들어온 책이면,\n",
    "        d[book] = 1\n",
    "\n",
    "m = max(d.values())\n",
    "\n",
    "candidate = []\n",
    "for k, v in d.items():\n",
    "    if v == m:\n",
    "        candidate.append(k)\n",
    "\n",
    "candidate.sort()\n",
    "print(candidate[0])\n",
    "        "
   ]
  }
 ],
 "metadata": {
  "kernelspec": {
   "display_name": "base",
   "language": "python",
   "name": "python3"
  },
  "language_info": {
   "codemirror_mode": {
    "name": "ipython",
    "version": 3
   },
   "file_extension": ".py",
   "mimetype": "text/x-python",
   "name": "python",
   "nbconvert_exporter": "python",
   "pygments_lexer": "ipython3",
   "version": "3.9.7 (default, Sep 16 2021, 16:59:28) [MSC v.1916 64 bit (AMD64)]"
  },
  "orig_nbformat": 4,
  "vscode": {
   "interpreter": {
    "hash": "ad2bdc8ecc057115af97d19610ffacc2b4e99fae6737bb82f5d7fb13d2f2c186"
   }
  }
 },
 "nbformat": 4,
 "nbformat_minor": 2
}
