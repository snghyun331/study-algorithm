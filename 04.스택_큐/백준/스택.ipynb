{
 "cells": [
  {
   "cell_type": "markdown",
   "id": "f6425b67",
   "metadata": {},
   "source": [
    "# 10828 (스택)"
   ]
  },
  {
   "cell_type": "code",
   "execution_count": 11,
   "id": "41ae1a78",
   "metadata": {},
   "outputs": [
    {
     "name": "stdout",
     "output_type": "stream",
     "text": [
      "7\n",
      "pop\n",
      "top\n",
      "push 123\n",
      "top\n",
      "pop\n",
      "top\n",
      "pop\n",
      "-1\n",
      "-1\n",
      "123\n",
      "123\n",
      "-1\n",
      "-1\n"
     ]
    }
   ],
   "source": [
    "N = int(input())\n",
    "commands = [input() for _ in range(N)]\n",
    "stack = []\n",
    "\n",
    "def is_empty(stack):\n",
    "    if len(stack) == 0:\n",
    "        return True\n",
    "    \n",
    "for i in commands:\n",
    "    if i[:4] == 'push':\n",
    "        num = int(i[5:])\n",
    "        stack.append(num)\n",
    "    if i == 'pop':\n",
    "        if is_empty(stack):\n",
    "            print(-1)\n",
    "        else:\n",
    "            print(stack.pop(-1))\n",
    "    if i == 'size':\n",
    "        print(len(stack))\n",
    "    if i == 'empty':\n",
    "        if is_empty(stack):\n",
    "            print(1)\n",
    "        else:\n",
    "            print(0)\n",
    "    if i == 'top':\n",
    "        if is_empty(stack):\n",
    "            print(-1)\n",
    "        else:\n",
    "            print(stack[-1])\n",
    "    \n",
    "    "
   ]
  },
  {
   "cell_type": "markdown",
   "id": "be90160b",
   "metadata": {},
   "source": [
    "# 10845 (큐)"
   ]
  },
  {
   "cell_type": "code",
   "execution_count": 12,
   "id": "605951a3",
   "metadata": {},
   "outputs": [
    {
     "name": "stdout",
     "output_type": "stream",
     "text": [
      "15\n",
      "push 1\n",
      "push 2\n",
      "front\n",
      "back\n",
      "size\n",
      "empty\n",
      "pop\n",
      "pop\n",
      "pop\n",
      "size\n",
      "empty\n",
      "pop\n",
      "push 3\n",
      "empty\n",
      "front\n",
      "1\n",
      "2\n",
      "2\n",
      "0\n",
      "1\n",
      "2\n",
      "-1\n",
      "0\n",
      "1\n",
      "-1\n",
      "0\n",
      "3\n"
     ]
    }
   ],
   "source": [
    "N = int(input())\n",
    "commands = [input() for _ in range(N)]\n",
    "stack = []\n",
    "\n",
    "def is_empty(stack):\n",
    "    if len(stack) == 0:\n",
    "        return True\n",
    "    \n",
    "for i in commands:\n",
    "    if i[:4] == 'push':\n",
    "        num = int(i[5:])\n",
    "        stack.append(num)\n",
    "    if i == 'pop':\n",
    "        if is_empty(stack):\n",
    "            print(-1)\n",
    "        else:\n",
    "            print(stack.pop(0))\n",
    "    if i == 'size':\n",
    "        print(len(stack))\n",
    "    if i == 'empty':\n",
    "        if is_empty(stack):\n",
    "            print(1)\n",
    "        else:\n",
    "            print(0)\n",
    "    if i == 'front':\n",
    "        if is_empty(stack):\n",
    "            print(-1)\n",
    "        else:\n",
    "            print(stack[0])\n",
    "    if i == 'back':\n",
    "        if is_empty(stack):\n",
    "            print(-1)\n",
    "        else:\n",
    "            print(stack[-1])\n",
    "    \n",
    "    "
   ]
  },
  {
   "cell_type": "code",
   "execution_count": null,
   "id": "056f5df9",
   "metadata": {},
   "outputs": [],
   "source": []
  }
 ],
 "metadata": {
  "kernelspec": {
   "display_name": "Python 3 (ipykernel)",
   "language": "python",
   "name": "python3"
  },
  "language_info": {
   "codemirror_mode": {
    "name": "ipython",
    "version": 3
   },
   "file_extension": ".py",
   "mimetype": "text/x-python",
   "name": "python",
   "nbconvert_exporter": "python",
   "pygments_lexer": "ipython3",
   "version": "3.9.7"
  }
 },
 "nbformat": 4,
 "nbformat_minor": 5
}
