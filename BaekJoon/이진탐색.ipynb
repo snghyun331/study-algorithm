{
 "cells": [
  {
   "attachments": {},
   "cell_type": "markdown",
   "metadata": {},
   "source": [
    "# **이진탐색(Binary Search)**\n",
    "탐색 전에 반드시 정렬되어있어야함    \n",
    "살펴보는 범위를 절반씩 줄여가면서 답 찾기   \n",
    "\n",
    "**시간복잡도**     \n",
    "(일반적으로)    \n",
    "정렬(NlognN) + 이진탐색(logN) → NlogN   \n",
    "(미리 정렬하면)    \n",
    "logN    \n",
    "\n",
    "**Case**     \n",
    "탐색을 한번이 아닌 여러번 해야할 경우, 선형탐색보다는 이진탐색이 더 유리\n",
    "\n"
   ]
  },
  {
   "cell_type": "code",
   "execution_count": 1,
   "metadata": {},
   "outputs": [
    {
     "name": "stdout",
     "output_type": "stream",
     "text": [
      "number of 3: 2\n",
      "number of 4: 0\n",
      "number of 6: 3\n"
     ]
    }
   ],
   "source": [
    "from bisect import bisect_left, bisect_right\n",
    "\n",
    "v = (0,1,3,3,6,6,6,7,8,8,9) # 선형 자료구조의 이름을 전달\n",
    "# 탐색할 값 전달\n",
    "three = bisect_right(v,3) - bisect_left(v,3) # 3이상인 것들 중 첫번째 위치의 배열값 - 3초과인 것들 중 첫번째 위치의 배열값\n",
    "four = bisect_right(v,4) - bisect_left(v,4) \n",
    "six = bisect_right(v,6) - bisect_left(v,6) \n",
    "print(f'number of 3: {three}')  # 4-2\n",
    "print(f'number of 4: {four}')   # 4-4\n",
    "print(f'number of 6: {six}')    # 7-4"
   ]
  },
  {
   "attachments": {},
   "cell_type": "markdown",
   "metadata": {},
   "source": [
    "## **파라메트릭 서치**\n",
    "- 최적화 문제를 결정문제로 바꿔서 이진탐색으로 푸는 방법\n",
    "- 최적화 문제: 문제 상황을 만족하는 변수의 최솟값, 최댓값을 구하는 문제\n",
    "- 결정문제: True/False 문제\n"
   ]
  },
  {
   "attachments": {},
   "cell_type": "markdown",
   "metadata": {},
   "source": [
    "## **#2512 예산**\n",
    "https://www.acmicpc.net/problem/2512"
   ]
  },
  {
   "cell_type": "code",
   "execution_count": null,
   "metadata": {},
   "outputs": [],
   "source": []
  }
 ],
 "metadata": {
  "kernelspec": {
   "display_name": "base",
   "language": "python",
   "name": "python3"
  },
  "language_info": {
   "codemirror_mode": {
    "name": "ipython",
    "version": 3
   },
   "file_extension": ".py",
   "mimetype": "text/x-python",
   "name": "python",
   "nbconvert_exporter": "python",
   "pygments_lexer": "ipython3",
   "version": "3.9.7"
  },
  "orig_nbformat": 4,
  "vscode": {
   "interpreter": {
    "hash": "ad2bdc8ecc057115af97d19610ffacc2b4e99fae6737bb82f5d7fb13d2f2c186"
   }
  }
 },
 "nbformat": 4,
 "nbformat_minor": 2
}
