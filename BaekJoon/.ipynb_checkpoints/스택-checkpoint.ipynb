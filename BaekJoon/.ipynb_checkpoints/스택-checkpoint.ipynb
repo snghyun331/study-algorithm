{
 "cells": [
  {
   "cell_type": "markdown",
   "id": "0d4f7c59",
   "metadata": {},
   "source": [
    "# 10828"
   ]
  },
  {
   "cell_type": "code",
   "execution_count": null,
   "id": "ef6178f4",
   "metadata": {},
   "outputs": [],
   "source": [
    "N = int(input)\n",
    "commands = [input() for _ in range(N)]\n",
    "stack = []\n",
    "\n",
    "def is_empty():\n",
    "    if len(stack) == 0:\n",
    "        return True\n",
    "    \n",
    "for i in commands:\n",
    "    if i[:4] == 'push':\n",
    "        num = int(i[5:])\n",
    "        stack.append(num)\n",
    "    if i == pop:\n",
    "        if stack.is_empty():\n",
    "            print(i)\n",
    "    if i == 'top':\n",
    "        if stack.is_empty():\n",
    "            print(-1)\n",
    "        else:\n",
    "            print(stack[-1])\n",
    "    \n"
   ]
  },
  {
   "cell_type": "code",
   "execution_count": null,
   "id": "e1cd4de5",
   "metadata": {},
   "outputs": [],
   "source": []
  }
 ],
 "metadata": {
  "kernelspec": {
   "display_name": "Python 3 (ipykernel)",
   "language": "python",
   "name": "python3"
  },
  "language_info": {
   "codemirror_mode": {
    "name": "ipython",
    "version": 3
   },
   "file_extension": ".py",
   "mimetype": "text/x-python",
   "name": "python",
   "nbconvert_exporter": "python",
   "pygments_lexer": "ipython3",
   "version": "3.9.7"
  }
 },
 "nbformat": 4,
 "nbformat_minor": 5
}
