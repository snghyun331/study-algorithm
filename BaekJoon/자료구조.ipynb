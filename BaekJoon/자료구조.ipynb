{
 "cells": [
  {
   "attachments": {},
   "cell_type": "markdown",
   "metadata": {},
   "source": [
    "# 스택, 큐, 우선순위큐, 맵, 집합"
   ]
  },
  {
   "attachments": {},
   "cell_type": "markdown",
   "metadata": {},
   "source": [
    "## 개념"
   ]
  },
  {
   "attachments": {},
   "cell_type": "markdown",
   "metadata": {},
   "source": [
    "### 스택(Stack)"
   ]
  },
  {
   "cell_type": "code",
   "execution_count": 2,
   "metadata": {},
   "outputs": [
    {
     "name": "stdout",
     "output_type": "stream",
     "text": [
      "[123, 456, 789]\n",
      "[123, 456]\n",
      "[123]\n"
     ]
    }
   ],
   "source": [
    "s = []\n",
    "s.append(123)\n",
    "s.append(456)\n",
    "s.append(789)\n",
    "\n",
    "while len(s) > 0:\n",
    "    print(s)\n",
    "    s.pop(-1)    # 제일 Last값을 뺀다"
   ]
  },
  {
   "attachments": {},
   "cell_type": "markdown",
   "metadata": {},
   "source": [
    "### 큐 (Queue)"
   ]
  },
  {
   "cell_type": "code",
   "execution_count": 5,
   "metadata": {},
   "outputs": [
    {
     "name": "stdout",
     "output_type": "stream",
     "text": [
      "deque([123])\n",
      "deque([123, 456])\n",
      "deque([789, 123, 456])\n",
      "\n",
      "456\n",
      "789\n",
      "deque([123])\n"
     ]
    }
   ],
   "source": [
    "# from queue import Queue\n",
    "from collections import deque\n",
    "\n",
    "q = deque()\n",
    "q.append(123)\n",
    "print(q)\n",
    "q.append(456)  # 오른쪽에 추가\n",
    "print(q)\n",
    "q.appendleft(789)  # 왼쪽에 추가\n",
    "print(q)\n",
    "print()\n",
    "\n",
    "print(q.pop())  # 제일 오른쪽 값(456)이 빠졌다.\n",
    "print(q.popleft())  # 제일 왼쪽 값(789)이 빠졌다.\n",
    "print(q)   # 123만 남음"
   ]
  },
  {
   "cell_type": "code",
   "execution_count": 6,
   "metadata": {},
   "outputs": [
    {
     "name": "stdout",
     "output_type": "stream",
     "text": [
      "deque([123])\n",
      "deque([123, 456])\n",
      "deque([789, 123, 456])\n",
      "\n",
      "789\n",
      "123\n",
      "456\n"
     ]
    }
   ],
   "source": [
    "# from queue import Queue\n",
    "from collections import deque\n",
    "\n",
    "q = deque()\n",
    "q.append(123)\n",
    "print(q)\n",
    "q.append(456)  # 오른쪽에 추가\n",
    "print(q)\n",
    "q.appendleft(789)  # 왼쪽에 추가\n",
    "print(q)\n",
    "print()\n",
    "\n",
    "while len(q) > 0:\n",
    "    print(q.popleft())   # 제일 왼쪽값부터 빼기 "
   ]
  },
  {
   "attachments": {},
   "cell_type": "markdown",
   "metadata": {},
   "source": [
    "### 우선순위 큐    \n",
    "(python은 Min-Heap 기준)"
   ]
  },
  {
   "cell_type": "code",
   "execution_count": 8,
   "metadata": {},
   "outputs": [
    {
     "name": "stdout",
     "output_type": "stream",
     "text": [
      "[-5, -3, 1, 10, 8]\n",
      "-5\n",
      "-3\n",
      "1\n",
      "8\n",
      "10\n"
     ]
    }
   ],
   "source": [
    "# from queue import PriorityQueue\n",
    "import heapq as hq\n",
    "\n",
    "pq = []\n",
    "hq.heappush(pq, 10)\n",
    "hq.heappush(pq, -5)\n",
    "hq.heappush(pq, 1)\n",
    "hq.heappush(pq, 8)\n",
    "hq.heappush(pq, -3)\n",
    "print(pq)\n",
    "while pq:\n",
    "    print(pq[0])  # 최상단 노드 (python에서는 최소값)\n",
    "    hq.heappop(pq)   # 최상단(root) 노드의 값을 뺀다"
   ]
  },
  {
   "attachments": {},
   "cell_type": "markdown",
   "metadata": {},
   "source": [
    "### 맵(Map)\n",
    "key, value"
   ]
  },
  {
   "cell_type": "code",
   "execution_count": 9,
   "metadata": {},
   "outputs": [
    {
     "name": "stdout",
     "output_type": "stream",
     "text": [
      "{'Apple': 2000, 'Orange': 4000, 'grapes': 1000}\n",
      "Apple 2000\n",
      "Orange 4000\n",
      "grapes 1000\n"
     ]
    }
   ],
   "source": [
    "m = {}\n",
    "m[\"Apple\"] = 2000\n",
    "m[\"Orange\"] = 4000\n",
    "m[\"grapes\"] = 1000\n",
    "print(m)\n",
    "for key in m:\n",
    "    print(key, m[key])   # m[key] = value"
   ]
  },
  {
   "attachments": {},
   "cell_type": "markdown",
   "metadata": {},
   "source": [
    "### 집합 (Set)\n",
    "중복값이 있으면 안됨"
   ]
  },
  {
   "cell_type": "code",
   "execution_count": 12,
   "metadata": {},
   "outputs": [
    {
     "name": "stdout",
     "output_type": "stream",
     "text": [
      "{10, 50, 70}\n",
      "{10, 70}\n"
     ]
    }
   ],
   "source": [
    "s = set()\n",
    "s.add(10)\n",
    "s.add(10)\n",
    "s.add(50)\n",
    "s.add(10)\n",
    "s.add(70)\n",
    "print(s)\n",
    "s.remove(50) # 특정값만 삭제\n",
    "print(s)\n",
    "\n",
    "# set에서는 pop메소드가 잘 안쓰여짐"
   ]
  },
  {
   "cell_type": "code",
   "execution_count": null,
   "metadata": {},
   "outputs": [],
   "source": []
  }
 ],
 "metadata": {
  "kernelspec": {
   "display_name": "base",
   "language": "python",
   "name": "python3"
  },
  "language_info": {
   "codemirror_mode": {
    "name": "ipython",
    "version": 3
   },
   "file_extension": ".py",
   "mimetype": "text/x-python",
   "name": "python",
   "nbconvert_exporter": "python",
   "pygments_lexer": "ipython3",
   "version": "3.9.7"
  },
  "orig_nbformat": 4,
  "vscode": {
   "interpreter": {
    "hash": "ad2bdc8ecc057115af97d19610ffacc2b4e99fae6737bb82f5d7fb13d2f2c186"
   }
  }
 },
 "nbformat": 4,
 "nbformat_minor": 2
}
