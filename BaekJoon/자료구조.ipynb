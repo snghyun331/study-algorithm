{
 "cells": [
  {
   "attachments": {},
   "cell_type": "markdown",
   "metadata": {},
   "source": [
    "# 스택, 큐, 우선순위큐, 맵, 집합"
   ]
  },
  {
   "attachments": {},
   "cell_type": "markdown",
   "metadata": {},
   "source": [
    "## 개념"
   ]
  },
  {
   "attachments": {},
   "cell_type": "markdown",
   "metadata": {},
   "source": [
    "### 스택(Stack)"
   ]
  },
  {
   "cell_type": "code",
   "execution_count": 2,
   "metadata": {},
   "outputs": [
    {
     "name": "stdout",
     "output_type": "stream",
     "text": [
      "[123, 456, 789]\n",
      "[123, 456]\n",
      "[123]\n"
     ]
    }
   ],
   "source": [
    "s = []\n",
    "s.append(123)\n",
    "s.append(456)\n",
    "s.append(789)\n",
    "\n",
    "while len(s) > 0:\n",
    "    print(s)\n",
    "    s.pop(-1)    # 제일 Last값을 뺀다"
   ]
  },
  {
   "attachments": {},
   "cell_type": "markdown",
   "metadata": {},
   "source": [
    "### 큐 (Queue)"
   ]
  },
  {
   "cell_type": "code",
   "execution_count": 5,
   "metadata": {},
   "outputs": [
    {
     "name": "stdout",
     "output_type": "stream",
     "text": [
      "deque([123])\n",
      "deque([123, 456])\n",
      "deque([789, 123, 456])\n",
      "\n",
      "456\n",
      "789\n",
      "deque([123])\n"
     ]
    }
   ],
   "source": [
    "# from queue import Queue\n",
    "from collections import deque\n",
    "\n",
    "q = deque()\n",
    "q.append(123)\n",
    "print(q)\n",
    "q.append(456)  # 오른쪽에 추가\n",
    "print(q)\n",
    "q.appendleft(789)  # 왼쪽에 추가\n",
    "print(q)\n",
    "print()\n",
    "\n",
    "print(q.pop())  # 제일 오른쪽 값(456)이 빠졌다.\n",
    "print(q.popleft())  # 제일 왼쪽 값(789)이 빠졌다.\n",
    "print(q)   # 123만 남음"
   ]
  },
  {
   "cell_type": "code",
   "execution_count": 6,
   "metadata": {},
   "outputs": [
    {
     "name": "stdout",
     "output_type": "stream",
     "text": [
      "deque([123])\n",
      "deque([123, 456])\n",
      "deque([789, 123, 456])\n",
      "\n",
      "789\n",
      "123\n",
      "456\n"
     ]
    }
   ],
   "source": [
    "# from queue import Queue\n",
    "from collections import deque\n",
    "\n",
    "q = deque()\n",
    "q.append(123)\n",
    "print(q)\n",
    "q.append(456)  # 오른쪽에 추가\n",
    "print(q)\n",
    "q.appendleft(789)  # 왼쪽에 추가\n",
    "print(q)\n",
    "print()\n",
    "\n",
    "while len(q) > 0:\n",
    "    print(q.popleft())   # 제일 왼쪽값부터 빼기 "
   ]
  },
  {
   "attachments": {},
   "cell_type": "markdown",
   "metadata": {},
   "source": [
    "### 우선순위 큐    \n",
    "(python은 Min-Heap 기준)"
   ]
  },
  {
   "cell_type": "code",
   "execution_count": 8,
   "metadata": {},
   "outputs": [
    {
     "name": "stdout",
     "output_type": "stream",
     "text": [
      "[-5, -3, 1, 10, 8]\n",
      "-5\n",
      "-3\n",
      "1\n",
      "8\n",
      "10\n"
     ]
    }
   ],
   "source": [
    "# from queue import PriorityQueue\n",
    "import heapq as hq\n",
    "\n",
    "pq = []\n",
    "hq.heappush(pq, 10)\n",
    "hq.heappush(pq, -5)\n",
    "hq.heappush(pq, 1)\n",
    "hq.heappush(pq, 8)\n",
    "hq.heappush(pq, -3)\n",
    "print(pq)\n",
    "while pq:\n",
    "    print(pq[0])  # 최상단 노드 (python에서는 최소값)\n",
    "    hq.heappop(pq)   # 최상단(root) 노드의 값을 뺀다"
   ]
  },
  {
   "attachments": {},
   "cell_type": "markdown",
   "metadata": {},
   "source": [
    "### 맵(Map)\n",
    "key, value"
   ]
  },
  {
   "cell_type": "code",
   "execution_count": 9,
   "metadata": {},
   "outputs": [
    {
     "name": "stdout",
     "output_type": "stream",
     "text": [
      "{'Apple': 2000, 'Orange': 4000, 'grapes': 1000}\n",
      "Apple 2000\n",
      "Orange 4000\n",
      "grapes 1000\n"
     ]
    }
   ],
   "source": [
    "m = {}\n",
    "m[\"Apple\"] = 2000\n",
    "m[\"Orange\"] = 4000\n",
    "m[\"grapes\"] = 1000\n",
    "print(m)\n",
    "for key in m:\n",
    "    print(key, m[key])   # m[key] = value"
   ]
  },
  {
   "attachments": {},
   "cell_type": "markdown",
   "metadata": {},
   "source": [
    "### 집합 (Set)\n",
    "중복값이 있으면 안됨"
   ]
  },
  {
   "cell_type": "code",
   "execution_count": 12,
   "metadata": {},
   "outputs": [
    {
     "name": "stdout",
     "output_type": "stream",
     "text": [
      "{10, 50, 70}\n",
      "{10, 70}\n"
     ]
    }
   ],
   "source": [
    "s = set()\n",
    "s.add(10)\n",
    "s.add(10)\n",
    "s.add(50)\n",
    "s.add(10)\n",
    "s.add(70)\n",
    "print(s)\n",
    "s.remove(50) # 특정값만 삭제\n",
    "print(s)\n",
    "\n",
    "# set에서는 pop메소드가 잘 안쓰여짐"
   ]
  },
  {
   "attachments": {},
   "cell_type": "markdown",
   "metadata": {},
   "source": [
    "## 실습"
   ]
  },
  {
   "attachments": {},
   "cell_type": "markdown",
   "metadata": {},
   "source": [
    "### **#9012 올바른 괄호**\n",
    "스택"
   ]
  },
  {
   "cell_type": "code",
   "execution_count": 3,
   "metadata": {},
   "outputs": [
    {
     "name": "stdout",
     "output_type": "stream",
     "text": [
      "No\n",
      "No\n",
      "No\n"
     ]
    }
   ],
   "source": [
    "# 정답\n",
    "T = int(input())\n",
    "for _ in range(T):\n",
    "    stack = []\n",
    "    isVPS = True\n",
    "    for ch in input():\n",
    "        if ch == '(':\n",
    "            stack.append(ch)\n",
    "        else:                     # ch == ')' 일 때\n",
    "            if len(stack) > 0:    # stack이 비어있는지 검사한다. (stack이 비어있지 않으면, pop수행 )\n",
    "                stack.pop()\n",
    "            else:                 # stack이 비어있다. (닫는 괄호가 하나 더 들어와있다.)\n",
    "                isVPS = False\n",
    "                break\n",
    "            \n",
    "    if len(stack) > 0:   \n",
    "        isVPS = False    # not vps\n",
    "        \n",
    "    print('YES' if isVPS else 'NO')\n",
    "    \n",
    "            "
   ]
  },
  {
   "attachments": {},
   "cell_type": "markdown",
   "metadata": {},
   "source": [
    "### **#2164 카드** \n",
    "<첫번째 방법>   \n",
    "1. 맨 앞의 값을 삭제 (삭제) O(N)\n",
    "2. 맨 앞의 값을 맨 뒤로 보내기 (삭제, 삽입)   \n",
    "→ 삽입 삭제 총 3번    \n",
    "→ (N-1) X O(3N) = O(3N^2 - 3N) = O(N^2)    \n",
    "→ 너무 큰 시간복잡도    \n",
    "\n",
    "<두번째 방법>\n",
    "큐    \n",
    "→ 큐의 삽입, 삭제 시간복잡도는 O(1)   \n",
    "→ 최종 시간 복잡도: O(N)"
   ]
  },
  {
   "cell_type": "code",
   "execution_count": 5,
   "metadata": {},
   "outputs": [
    {
     "name": "stdout",
     "output_type": "stream",
     "text": [
      "deque([1, 2, 3, 4, 5, 6])\n",
      "deque([4])\n"
     ]
    }
   ],
   "source": [
    "from collections import deque\n",
    "\n",
    "#1\n",
    "# N = int(input())\n",
    "# dq = deque()\n",
    "# for i in range(1, N+1):\n",
    "#     dq.append(i)\n",
    "# print(dq)\n",
    "\n",
    "#2\n",
    "N = int(input())\n",
    "dq = deque(range(1, N+1))    \n",
    "print(dq)\n",
    "\n",
    "# ↑ 첫번째 방법과 두번째 방법 결과는 같음\n",
    "\n",
    "while len(dq) > 1:\n",
    "    dq.popleft()   # 맨 위값(첫번째값)을 빼준다\n",
    "    dq.append(dq.popleft())  # 두번째 값을 빼주고, 그 값을 마지막 위치로 옮긴다.\n",
    "print(dq)\n",
    "    "
   ]
  },
  {
   "cell_type": "code",
   "execution_count": 6,
   "metadata": {},
   "outputs": [
    {
     "name": "stdout",
     "output_type": "stream",
     "text": [
      "4\n"
     ]
    }
   ],
   "source": [
    "# 정답 (input: 6)\n",
    "from collections import deque\n",
    "\n",
    "N = int(input())\n",
    "dq = deque(range(1, N+1))    \n",
    "\n",
    "while len(dq) > 1:\n",
    "    dq.popleft()   # 맨 위값(첫번째값)을 빼준다\n",
    "    dq.append(dq.popleft())  # 두번째 값을 빼주고, 그 값을 마지막 위치로 옮긴다.\n",
    "\n",
    "print(dq.popleft())\n",
    "    "
   ]
  },
  {
   "cell_type": "code",
   "execution_count": 7,
   "metadata": {},
   "outputs": [
    {
     "name": "stdout",
     "output_type": "stream",
     "text": [
      "475712\n"
     ]
    }
   ],
   "source": [
    "# 정답 (input: 500000)\n",
    "from collections import deque\n",
    "\n",
    "N = int(input())\n",
    "dq = deque(range(1, N+1))    \n",
    "\n",
    "while len(dq) > 1:\n",
    "    dq.popleft()   # 맨 위값(첫번째값)을 빼준다\n",
    "    dq.append(dq.popleft())  # 두번째 값을 빼주고, 그 값을 마지막 위치로 옮긴다.\n",
    "\n",
    "print(dq.popleft())\n",
    "    "
   ]
  },
  {
   "cell_type": "code",
   "execution_count": 10,
   "metadata": {},
   "outputs": [
    {
     "name": "stdout",
     "output_type": "stream",
     "text": [
      "[1, 2, 3, 4, 5, 6]\n",
      "[3, 4, 5, 6, 2]\n",
      "[5, 6, 2, 4]\n",
      "[2, 4, 6]\n",
      "[6, 4]\n",
      "[4]\n",
      "4\n"
     ]
    }
   ],
   "source": [
    "# 배열로 재구성 (시간초과)\n",
    "\n",
    "N = int(input())\n",
    "# arr = [*range(1, N+1)]\n",
    "arr = []\n",
    "for i in range(1, N+1):\n",
    "    arr.append(i)\n",
    "print(arr)\n",
    "\n",
    "while len(arr) > 1:\n",
    "    arr.pop(0)\n",
    "    arr.append(arr.pop(0))\n",
    "    print(arr)\n",
    "        \n",
    "print(arr.pop(0))"
   ]
  },
  {
   "attachments": {},
   "cell_type": "markdown",
   "metadata": {},
   "source": [
    "### **#11286 절대값 힙**"
   ]
  },
  {
   "cell_type": "code",
   "execution_count": null,
   "metadata": {},
   "outputs": [],
   "source": []
  },
  {
   "attachments": {},
   "cell_type": "markdown",
   "metadata": {},
   "source": [
    "### **#1302 베스트셀러**\n",
    "어떤 책들이 각각 몇권 팔렸는지 기록하고, 팔린 권 수 비교  \n",
    "→ 맵(딕셔너리)"
   ]
  },
  {
   "cell_type": "code",
   "execution_count": 12,
   "metadata": {},
   "outputs": [
    {
     "name": "stdout",
     "output_type": "stream",
     "text": [
      "{'a': 3, 'b': 3}\n",
      "3\n",
      "a\n"
     ]
    }
   ],
   "source": [
    "d = dict()\n",
    "for _ in range(int(input())):\n",
    "    book = input()\n",
    "    if book in d:   # 이미 딕셔너리에 book이 저장되어있으면,\n",
    "        d[book] += 1   # value(권 수)를 1증가\n",
    "    else:   # 새로 들어온 책이면,\n",
    "        d[book] = 1\n",
    "\n",
    "print(d)\n",
    "\n",
    "# d.keys()  key값만 모아서 반환\n",
    "# d.values()  value값만 모아서 반환\n",
    "# d.items()  key, value 묶어서 전부 반환\n",
    "m = max(d.values())\n",
    "print(m)\n",
    "\n",
    "candidate = []\n",
    "for k, v in d.items():\n",
    "    if v == m:\n",
    "        candidate.append(k)\n",
    "\n",
    "# print(sorted(candidate)[0])\n",
    "candidate.sort()\n",
    "print(candidate[0])\n",
    "        "
   ]
  },
  {
   "cell_type": "code",
   "execution_count": 13,
   "metadata": {},
   "outputs": [
    {
     "name": "stdout",
     "output_type": "stream",
     "text": [
      "a\n"
     ]
    }
   ],
   "source": [
    "# 정답\n",
    "d = dict()\n",
    "for _ in range(int(input())):\n",
    "    book = input()\n",
    "    if book in d:   # 이미 딕셔너리에 book이 저장되어있으면,\n",
    "        d[book] += 1   # value(권 수)를 1증가\n",
    "    else:   # 새로 들어온 책이면,\n",
    "        d[book] = 1\n",
    "\n",
    "m = max(d.values())\n",
    "\n",
    "candidate = []\n",
    "for k, v in d.items():\n",
    "    if v == m:\n",
    "        candidate.append(k)\n",
    "\n",
    "candidate.sort()\n",
    "print(candidate[0])\n",
    "        "
   ]
  }
 ],
 "metadata": {
  "kernelspec": {
   "display_name": "base",
   "language": "python",
   "name": "python3"
  },
  "language_info": {
   "codemirror_mode": {
    "name": "ipython",
    "version": 3
   },
   "file_extension": ".py",
   "mimetype": "text/x-python",
   "name": "python",
   "nbconvert_exporter": "python",
   "pygments_lexer": "ipython3",
   "version": "3.9.7 (default, Sep 16 2021, 16:59:28) [MSC v.1916 64 bit (AMD64)]"
  },
  "orig_nbformat": 4,
  "vscode": {
   "interpreter": {
    "hash": "ad2bdc8ecc057115af97d19610ffacc2b4e99fae6737bb82f5d7fb13d2f2c186"
   }
  }
 },
 "nbformat": 4,
 "nbformat_minor": 2
}
