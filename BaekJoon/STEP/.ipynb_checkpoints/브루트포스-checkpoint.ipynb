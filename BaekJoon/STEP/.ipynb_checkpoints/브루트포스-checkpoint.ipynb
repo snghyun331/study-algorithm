{
 "cells": [
  {
   "cell_type": "markdown",
   "id": "0acc29c9",
   "metadata": {},
   "source": [
    "# 2798 블랙잭"
   ]
  },
  {
   "cell_type": "code",
   "execution_count": 22,
   "id": "6fe2e4dc",
   "metadata": {},
   "outputs": [
    {
     "name": "stdout",
     "output_type": "stream",
     "text": [
      "10 500\n",
      "93 181 245 214 315 36 185 138 216 295\n",
      "497\n"
     ]
    }
   ],
   "source": [
    "#1 (108ms)\n",
    "N, M = map(int, input().split())\n",
    "cards = list(map(int, input().split()))\n",
    "total = []\n",
    "for i in range(N):\n",
    "    for j in range(i+1, N):\n",
    "        for k in range(j+1, N):\n",
    "            sum = cards[i] + cards[j] + cards[k]\n",
    "            if sum <= M:\n",
    "                total.append(sum)\n",
    "print(max(total))"
   ]
  },
  {
   "cell_type": "code",
   "execution_count": 26,
   "id": "c43cb9dc",
   "metadata": {},
   "outputs": [
    {
     "name": "stdout",
     "output_type": "stream",
     "text": [
      "10 500\n",
      "93 181 245 214 315 36 185 138 216 295\n",
      "497\n"
     ]
    }
   ],
   "source": [
    "#2 (80ms)\n",
    "N, M = map(int, input().split())\n",
    "cards = list(map(int, input().split()))\n",
    "total = 0\n",
    "for i in range(N):\n",
    "    for j in range(i+1, N):\n",
    "        for k in range(j+1, N):\n",
    "            sum = cards[i] + cards[j] + cards[k]\n",
    "            if (sum <= M) & (sum > total):\n",
    "                total = sum\n",
    "print(total)"
   ]
  },
  {
   "cell_type": "markdown",
   "id": "5f91d8eb",
   "metadata": {},
   "source": [
    "# 2231분해합"
   ]
  },
  {
   "cell_type": "code",
   "execution_count": 20,
   "id": "57d0ad16",
   "metadata": {},
   "outputs": [
    {
     "name": "stdout",
     "output_type": "stream",
     "text": [
      "2\n",
      "1\n"
     ]
    }
   ],
   "source": [
    "N = int(input())  \n",
    "\n",
    "for i in range(1, N+1):   # i = N의 모든 생성자 (i = 198일 때)\n",
    "    num = sum((map(int, str(i))))  # i의 각 자릿수를 더함 (num = 1+9+8 = 18)\n",
    "    num_sum = i + num  # 분해합 = 생성자 + 각 자릿수의 합  (num_sum = 198 + 18 = 216)\n",
    "    # 처음으로 분해합과 입력값이 같을때가 가장 작은 생성자\n",
    "    if num_sum == N:  # if 216 == 126\n",
    "        print(i)\n",
    "        break\n",
    "else:  # for반복문이 다 돈 후에도 num_sum == N에 해당하는 i값을 못찾으면\n",
    "    print(0)\n"
   ]
  },
  {
   "cell_type": "markdown",
   "id": "ed615715",
   "metadata": {},
   "source": [
    "# 19532 수학은 비대면 강의입니다"
   ]
  },
  {
   "cell_type": "code",
   "execution_count": 15,
   "id": "4d0746ed",
   "metadata": {},
   "outputs": [
    {
     "name": "stdout",
     "output_type": "stream",
     "text": [
      "1 3 -1 4 1 7\n",
      "2 -1\n"
     ]
    }
   ],
   "source": [
    "a,b,c,d,e,f = list(map(int,input().split()))\n",
    "values = []\n",
    "\n",
    "# 대입 노가다 (x와 y를 -999부터 1000까지 모두 대입)\n",
    "for x in range(-999, 1000):\n",
    "    for y in range(-999, 1000):\n",
    "        if a*x + b*y == c:\n",
    "            values.append([x,y])\n",
    "\n",
    "# 1행에서 얻은 x,y 묶음을 2행의 방정식에 대입해보면서 최종 해 찾기\n",
    "for xy in values:\n",
    "    if d*xy[0] + e*xy[1] == f:\n",
    "        print(xy[0], xy[1])\n",
    "        break"
   ]
  },
  {
   "cell_type": "markdown",
   "id": "a694d359",
   "metadata": {},
   "source": [
    "# 1018 체스판 다시 칠하기"
   ]
  },
  {
   "cell_type": "code",
   "execution_count": 8,
   "id": "db79ffeb",
   "metadata": {},
   "outputs": [
    {
     "name": "stdout",
     "output_type": "stream",
     "text": [
      "8 8\n",
      "BWBWBWBW\n",
      "WBWBWBWB\n",
      "BWBWBWBW\n",
      "WBWBWBWB\n",
      "BWBWBWBW\n",
      "WBWBWBWB\n",
      "BWBWBWBW\n",
      "WBWBWBWB\n",
      "[['B', 'W', 'B', 'W', 'B', 'W', 'B', 'W'], ['W', 'B', 'W', 'B', 'W', 'B', 'W', 'B'], ['B', 'W', 'B', 'W', 'B', 'W', 'B', 'W'], ['W', 'B', 'W', 'B', 'W', 'B', 'W', 'B'], ['B', 'W', 'B', 'W', 'B', 'W', 'B', 'W'], ['W', 'B', 'W', 'B', 'W', 'B', 'W', 'B'], ['B', 'W', 'B', 'W', 'B', 'W', 'B', 'W'], ['W', 'B', 'W', 'B', 'W', 'B', 'W', 'B']]\n"
     ]
    }
   ],
   "source": [
    "N, M = map(int, input().split())\n",
    "board = []\n",
    "for _ in range(N):\n",
    "    raw = list(map(str,input()))\n",
    "    board.append(raw)\n",
    "print(board)"
   ]
  },
  {
   "cell_type": "code",
   "execution_count": 11,
   "id": "0dd10360",
   "metadata": {},
   "outputs": [
    {
     "name": "stdout",
     "output_type": "stream",
     "text": [
      "0\n"
     ]
    }
   ],
   "source": [
    "count = []\n",
    "for i in range(0, M-7):\n",
    "    for j in range(0,N-7):\n",
    "        black_first_draw_count = 0\n",
    "        white_first_draw_count = 0\n",
    "        for a in range(i, i+8):\n",
    "            for b in range(j, j+8):\n",
    "                if (a+b) % 2 == 0:\n",
    "                    if board[a][b] != 'B':\n",
    "                        black_first_draw_count += 1\n",
    "                    if board[a][b] != 'W':\n",
    "                        white_first_draw_count += 1\n",
    "                else:\n",
    "                    if board[a][b] != 'B':\n",
    "                        white_first_draw_count += 1\n",
    "                    if board[a][b] != 'W':\n",
    "                        black_first_draw_count += 1\n",
    "        count.append(min(black_first_draw_count, white_first_draw_count))\n",
    "    print(min(count))"
   ]
  },
  {
   "cell_type": "markdown",
   "id": "13e5d45d",
   "metadata": {},
   "source": [
    "# 1436 영화감독 숌"
   ]
  },
  {
   "cell_type": "code",
   "execution_count": 13,
   "id": "7cd0cd68",
   "metadata": {},
   "outputs": [
    {
     "name": "stdout",
     "output_type": "stream",
     "text": [
      "187\n",
      "66666\n",
      "66666\n"
     ]
    }
   ],
   "source": [
    "N = int(input())\n",
    "num = 666\n",
    "count = 0\n",
    "\n",
    "while(True):\n",
    "    if '666' in str(num):\n",
    "        count += 1\n",
    "        \n",
    "        if count == N:\n",
    "            print(num)\n",
    "            break\n",
    "            \n",
    "    num += 1\n",
    "    \n",
    "print(num)\n"
   ]
  },
  {
   "cell_type": "markdown",
   "id": "4f0c3474",
   "metadata": {},
   "source": [
    "# 14501 퇴사"
   ]
  },
  {
   "cell_type": "code",
   "execution_count": null,
   "id": "9a1404b2",
   "metadata": {},
   "outputs": [],
   "source": [
    "N = int(input())\n",
    "consult_list = [[0,0]]\n",
    "for _ in range(N):\n",
    "    T, P = map(int, input().split())\n",
    "    consult_list.append([T, P])\n",
    "    \n",
    "dp = [0] * (N+1)  # 백준이가 얻을 수 있는 최대 이익\n",
    "\n",
    "for i in range(1, N+1):  # 모든 인덱스에 대해서\n",
    "    dp[i] = dp[i-1]    # 아무것도 안했을 때 현재 DP값은 이전 DP값과 같으므로\n",
    "    for j in range(1, i+1):     # 현재 인덱스까지\n",
    "        if i-j+1 == consult_list[j][0]:\n",
    "            dp[i] = max(dp[i], consult_list[j][1] + dp[j-1]) \n",
    "            # 현재 DP값 vs 현재 인덱스에서 끝날 상담 이익과 끝날 상담 이전의 DP값을 더한 값\n",
    "            \n"
   ]
  },
  {
   "cell_type": "code",
   "execution_count": 14,
   "id": "646461ae",
   "metadata": {},
   "outputs": [
    {
     "name": "stdout",
     "output_type": "stream",
     "text": [
      "7\n",
      "3 10\n",
      "5 20\n",
      "1 10\n",
      "1 20\n",
      "2 15\n",
      "4 40\n",
      "2 200\n"
     ]
    },
    {
     "data": {
      "text/plain": [
       "[[0, 0], [3, 10], [5, 20], [1, 10], [1, 20], [2, 15], [4, 40], [2, 200]]"
      ]
     },
     "execution_count": 14,
     "metadata": {},
     "output_type": "execute_result"
    }
   ],
   "source": [
    "N = int(input())\n",
    "consult_list = [[0,0]]\n",
    "for _ in range(N):\n",
    "    T, P = map(int, input().split())\n",
    "    consult_list.append([T, P])\n",
    "    \n",
    "consult_list"
   ]
  },
  {
   "cell_type": "code",
   "execution_count": 15,
   "id": "9066db0e",
   "metadata": {},
   "outputs": [
    {
     "data": {
      "text/plain": [
       "[3, 10]"
      ]
     },
     "execution_count": 15,
     "metadata": {},
     "output_type": "execute_result"
    }
   ],
   "source": [
    "consult_list[1][]"
   ]
  },
  {
   "cell_type": "markdown",
   "id": "d3223bb4",
   "metadata": {},
   "source": [
    "# 17204 죽음의 게임"
   ]
  },
  {
   "cell_type": "code",
   "execution_count": 1,
   "id": "ed53b2a4",
   "metadata": {},
   "outputs": [
    {
     "name": "stdout",
     "output_type": "stream",
     "text": [
      "5 3\n",
      "1\n",
      "3\n",
      "2\n",
      "1\n",
      "4\n",
      "2\n"
     ]
    }
   ],
   "source": [
    "N, K = map(int, input().split())\n",
    "\n",
    "num_list = [int(input()) for _ in range(N)]\n",
    "\n",
    "target = 0  # 지목을 하는 사람 (0부터 시작)\n",
    "M = 0\n",
    "\n",
    "for i in range(N):\n",
    "    target = num_list[target]\n",
    "    M += 1\n",
    "    if target == K:\n",
    "        print(M)\n",
    "        break\n",
    "else:\n",
    "    print(-1)\n",
    "    "
   ]
  },
  {
   "cell_type": "code",
   "execution_count": 4,
   "id": "332b2992",
   "metadata": {},
   "outputs": [
    {
     "name": "stdout",
     "output_type": "stream",
     "text": [
      "5 2\n",
      "1\n",
      "3\n",
      "2\n",
      "1\n",
      "4\n",
      "-1\n"
     ]
    }
   ],
   "source": [
    "N, K = map(int, input().split())\n",
    "\n",
    "num_list = [int(input()) for _ in range(N)]\n",
    "\n",
    "target = 0  # 지목을 하는 사람 (0부터 시작)\n",
    "M = 0\n",
    "\n",
    "for i in range(N):\n",
    "    target = num_list[target]\n",
    "    M += 1\n",
    "    if target == K:\n",
    "        print(M)\n",
    "        break\n",
    "else:\n",
    "    print(-1)\n",
    "    "
   ]
  },
  {
   "cell_type": "code",
   "execution_count": null,
   "id": "cc26aba5",
   "metadata": {},
   "outputs": [],
   "source": []
  }
 ],
 "metadata": {
  "kernelspec": {
   "display_name": "Python 3 (ipykernel)",
   "language": "python",
   "name": "python3"
  },
  "language_info": {
   "codemirror_mode": {
    "name": "ipython",
    "version": 3
   },
   "file_extension": ".py",
   "mimetype": "text/x-python",
   "name": "python",
   "nbconvert_exporter": "python",
   "pygments_lexer": "ipython3",
   "version": "3.9.7"
  }
 },
 "nbformat": 4,
 "nbformat_minor": 5
}
