{
 "cells": [
  {
   "attachments": {},
   "cell_type": "markdown",
   "metadata": {},
   "source": [
    "# 탐욕법 (Greedy Algorithm)\n",
    "- 매 순간마다 최선의 경우만을 골라간다. (완전탐색은 모든 경우를 다 센다)\n",
    "- 다른 경우는 고려하지 않는다. 나중은 생각하지 않는다. (최선의 경우를 찾은 후, 나중에 보니 그것보다 더 좋은 경우가 나타났을지라도 무시한다.)\n",
    "- 모든 경우를 다 보지 않으니 완전 탐색보다 빠르다\n",
    "- 어떤 경우가 최선인지 찾는게 포인트\n",
    "    - 규칙성을 찾아야하기도"
   ]
  },
  {
   "attachments": {},
   "cell_type": "markdown",
   "metadata": {},
   "source": [
    "## 예제 - 동전 거스름돈 문제\n",
    "**Q. 10, 50, 100, 500원 동전들을 무한하게 갖고 있다. 손님에게 800원을 거슬러주려고 할 때 동전을 최소한으로 주는 방법은?**  \n",
    "→ 단위가 가장 큰 동전부터 세고, 남은 금액은 그 다음에 큰 단위의 동전을 세고, ..... 이런식으로 구한다 (Greedy 방식, 모든 경우를 보지는 않는다)    \n",
    "**(반례)Q. 10, 400, 500원 동전들을 무한하게 갖고 있다. 손님에게 800원을 거슬러주려고 할 때 동전을 최소한으로 주는 방법은?**   \n",
    "→ 500X1 + 100X3 (동전 총 4개)방식보다 400X2 (동전 총 2개)방식이 더 효과적임 → Greedy로 풀 수 없음   \n",
    "\n",
    "→ 단위들이 서로 배수 관계를 띄고 있는 경우(예: 10, 50, 100, 500) Greedy를 쓰자!!    "
   ]
  },
  {
   "attachments": {},
   "cell_type": "markdown",
   "metadata": {},
   "source": [
    "## **#11047 동전 0**  \n",
    "https://www.acmicpc.net/problem/11047       \n",
    "K원을 만드는 데 필요한 동전 개수의 최솟값(ans)을 출력    \n",
    "- \"Ai는 Ai-1의 배수\"  →  Greedy로 풀기  \n",
    "- N은 전체 동전 개수"
   ]
  },
  {
   "cell_type": "code",
   "execution_count": 3,
   "metadata": {},
   "outputs": [
    {
     "name": "stdout",
     "output_type": "stream",
     "text": [
      "coin: 50000, K: 4790, ans: 0\n",
      "coin: 10000, K: 4790, ans: 0\n",
      "coin: 5000, K: 4790, ans: 0\n",
      "coin: 1000, K: 790, ans: 4\n",
      "coin: 500, K: 290, ans: 5\n",
      "coin: 100, K: 90, ans: 7\n",
      "coin: 50, K: 40, ans: 8\n",
      "coin: 10, K: 0, ans: 12\n",
      "coin: 5, K: 0, ans: 12\n",
      "coin: 1, K: 0, ans: 12\n"
     ]
    }
   ],
   "source": [
    "N, K = map(int, input().split())      # N, K값 정의\n",
    "coins = [int(input()) for _ in range(N)]   # 동전 정의\n",
    "coins.reverse()  # 제일 큰 값을 맨 앞으로\n",
    "\n",
    "ans = 0          # 정답 (N)\n",
    "for coin in coins:\n",
    "    ans += (K // coin)   # 몫 (누적)\n",
    "    K %= coin            # 나머지를 K에 저장 (누적X)\n",
    "    print(f'coin: {coin}, K: {K}, ans: {ans}')"
   ]
  },
  {
   "cell_type": "code",
   "execution_count": 6,
   "metadata": {},
   "outputs": [
    {
     "name": "stdout",
     "output_type": "stream",
     "text": [
      "12\n"
     ]
    }
   ],
   "source": [
    "# 정답\n",
    "N, K = map(int, input().split())\n",
    "coins = [int(input()) for _ in range(N)]\n",
    "coins.reverse()  # 제일 큰 값을 맨 앞으로\n",
    "\n",
    "ans = 0\n",
    "for coin in coins:\n",
    "    ans += (K // coin)\n",
    "    K %= coin\n",
    "    \n",
    "print(ans)"
   ]
  },
  {
   "attachments": {},
   "cell_type": "markdown",
   "metadata": {},
   "source": [
    "## **#1449 수리공 항승**\n",
    "https://www.acmicpc.net/problem/1449       \n",
    "<입력값 설명>   \n",
    "첫째줄: 구멍 개수(N), 테이프 총 길이(L)    \n",
    "둘째 줄: 구멍난 곳 위치    \n",
    "<출력값 설명>    \n",
    "구멍난 곳을 메우기 위해 필요한 테이프의 개수"
   ]
  },
  {
   "cell_type": "code",
   "execution_count": 2,
   "metadata": {},
   "outputs": [
    {
     "name": "stdout",
     "output_type": "stream",
     "text": [
      "2\n"
     ]
    }
   ],
   "source": [
    "# 정답1\n",
    "N, L = map(int,input().split())\n",
    "\n",
    "coord = [False] * 1001    # 전체 좌표를 나타내는 크기가 1001인 리스트, 구멍 위치에만 True로 나타냄, 크기가 1001이면 인덱스는 ~1000 까지\n",
    "for i in map(int,input().split()):\n",
    "    coord[i] = True  # 구멍난 곳들만 True\n",
    "\n",
    "# 현재 좌표(포인터)에서 옮기는 방식으로\n",
    "ans = 0 \n",
    "x = 0  # 테이프의 현재 위치좌표 (오른쪽 끝 기준)\n",
    "while x < 1001:\n",
    "    if coord[x] == True:  # 구멍이 난 곳이라면,\n",
    "        ans += 1   # 테이프를 하나 썼다\n",
    "        x += L    # 테이프를 하나 썼으니까, 테이프 길이만큼 x 점프\n",
    "    else:     # 구멍이 난 곳이 아니라면,\n",
    "        x += 1\n",
    "        \n",
    "print(ans)   # 최종적으로 테이프 몇개 썼는지"
   ]
  },
  {
   "attachments": {},
   "cell_type": "markdown",
   "metadata": {},
   "source": [
    "▲ N과 L 값의 제한이 ~1000이 아닌 ~10000000인 경우, 시간초과 및 메모리 초과 이슈 발생    \n",
    "▼ 아래 방법이 코드 길이와 메모리 면에서 더 효율적임"
   ]
  },
  {
   "cell_type": "code",
   "execution_count": 4,
   "metadata": {},
   "outputs": [
    {
     "name": "stdout",
     "output_type": "stream",
     "text": [
      "[1, 2, 100, 101]\n",
      "테이프의 현재 위치: 2, 테이프의 누적 사용 개수: 1\n",
      "테이프의 현재 위치: 101, 테이프의 누적 사용 개수: 2\n",
      "2\n"
     ]
    }
   ],
   "source": [
    "# 구멍이 난 위치 자체를 list에 저장\n",
    "N, L = map(int, input().split())  \n",
    "coord = list(map(int, input().split()))   # 구멍이 난 위치 정의 및 리스트에 저장\n",
    "coord.sort()\n",
    "print(coord)\n",
    "\n",
    "ans = 0\n",
    "x = 0   # 테이프의 현재 위치좌표 (오른쪽 끝 기준)\n",
    "for c in coord:\n",
    "    if x < c:\n",
    "        x = c + L - 1   # -1인 이유: 예를 들어 coord = [2,3,4,10,11,12]이고 L이 3이면, \n",
    "                        # 2인 경우에 4까지 자동으로 수리가 완료되므로 2를 제외한 3과 4는 무시하고 점프하면 되니까 (2는 이미 카운팅됨)\n",
    "        ans += 1\n",
    "        print(f'테이프의 현재 위치: {x}, 테이프의 누적 사용 개수: {ans}')\n",
    "    else:\n",
    "        continue\n",
    "    \n",
    "print(ans)\n",
    "\n"
   ]
  },
  {
   "cell_type": "code",
   "execution_count": 5,
   "metadata": {},
   "outputs": [
    {
     "name": "stdout",
     "output_type": "stream",
     "text": [
      "2\n"
     ]
    }
   ],
   "source": [
    "# 정답2\n",
    "N, L = map(int, input().split())  \n",
    "coord = list(map(int, input().split()))\n",
    "coord.sort()\n",
    "\n",
    "ans = 0\n",
    "x = 0  \n",
    "for c in coord:\n",
    "    if x < c:\n",
    "        x = c + L - 1\n",
    "        ans += 1\n",
    "    else:\n",
    "        continue\n",
    "    \n",
    "print(ans)"
   ]
  },
  {
   "cell_type": "code",
   "execution_count": null,
   "metadata": {},
   "outputs": [],
   "source": []
  }
 ],
 "metadata": {
  "kernelspec": {
   "display_name": "base",
   "language": "python",
   "name": "python3"
  },
  "language_info": {
   "codemirror_mode": {
    "name": "ipython",
    "version": 3
   },
   "file_extension": ".py",
   "mimetype": "text/x-python",
   "name": "python",
   "nbconvert_exporter": "python",
   "pygments_lexer": "ipython3",
   "version": "3.9.7"
  },
  "orig_nbformat": 4,
  "vscode": {
   "interpreter": {
    "hash": "ad2bdc8ecc057115af97d19610ffacc2b4e99fae6737bb82f5d7fb13d2f2c186"
   }
  }
 },
 "nbformat": 4,
 "nbformat_minor": 2
}
