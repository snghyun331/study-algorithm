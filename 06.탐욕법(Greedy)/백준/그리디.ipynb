{
 "cells": [
  {
   "cell_type": "markdown",
   "id": "5c9b3259",
   "metadata": {},
   "source": [
    "# BJ_15881     \n",
    "Pen Pineapple Apple Pen"
   ]
  },
  {
   "cell_type": "code",
   "execution_count": 16,
   "id": "ecebd3e1",
   "metadata": {},
   "outputs": [
    {
     "name": "stdout",
     "output_type": "stream",
     "text": [
      "15\n",
      "ApPApPpAPpApPAp\n",
      "2\n"
     ]
    }
   ],
   "source": [
    "N = int(input())\n",
    "str = input()\n",
    "word = 'pPAp'\n",
    "print(str.count(word))"
   ]
  },
  {
   "cell_type": "markdown",
   "id": "17b2c5e8",
   "metadata": {},
   "source": [
    "# BJ_2839     \n",
    "설탕 배달"
   ]
  },
  {
   "cell_type": "code",
   "execution_count": 30,
   "id": "6cb1861f",
   "metadata": {},
   "outputs": [
    {
     "name": "stdout",
     "output_type": "stream",
     "text": [
      "6\n",
      "2\n"
     ]
    }
   ],
   "source": [
    "sugar = int(input())\n",
    "bagCount = 0\n",
    "\n",
    "if sugar % 5 == 0:\n",
    "    bagCount = bagCount + (sugar//5)\n",
    "    print(bagCount)\n",
    "else:\n",
    "    while(True):\n",
    "        sugar = sugar - 3\n",
    "        bagCount += 1\n",
    "        if sugar % 5 == 0:     # 3kg과 5kg를 조합해서 담을 수 있을 때\n",
    "            bagCount = bagCount + (sugar//5)\n",
    "            print(bagCount)\n",
    "            break\n",
    "        elif (sugar > 0) and (sugar <= 2):   # 나눠지지 않는 경우\n",
    "            print(-1)\n",
    "            break\n",
    "        elif sugar == 0:   # sugar가 애초에 3KG이었을 때\n",
    "            print(bagCount)\n",
    "            break\n",
    "    "
   ]
  },
  {
   "cell_type": "markdown",
   "id": "6d5bbbae",
   "metadata": {},
   "source": [
    "# BJ_2847     \n",
    "게임을 만든 동준이"
   ]
  },
  {
   "cell_type": "code",
   "execution_count": null,
   "id": "c35b1f6a",
   "metadata": {},
   "outputs": [],
   "source": [
    "N = int(input())\n",
    "score = []\n",
    "for i in range(N):\n",
    "    score.append(int(input()))\n",
    "\n",
    "count = 0\n",
    "for i in range(N-2, -1, -1):\n",
    "    if score[i] >= score[i+1]:\n",
    "        count = count + (score[i] - score[i+1] + 1)\n",
    "        score[i] = score[i+1] - 1\n",
    "\n",
    "print(count)"
   ]
  }
 ],
 "metadata": {
  "kernelspec": {
   "display_name": "Python 3 (ipykernel)",
   "language": "python",
   "name": "python3"
  },
  "language_info": {
   "codemirror_mode": {
    "name": "ipython",
    "version": 3
   },
   "file_extension": ".py",
   "mimetype": "text/x-python",
   "name": "python",
   "nbconvert_exporter": "python",
   "pygments_lexer": "ipython3",
   "version": "3.9.7"
  }
 },
 "nbformat": 4,
 "nbformat_minor": 5
}
