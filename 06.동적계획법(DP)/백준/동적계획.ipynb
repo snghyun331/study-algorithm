{
 "cells": [
  {
   "attachments": {},
   "cell_type": "markdown",
   "metadata": {},
   "source": [
    "## **#2748 피보나치 수2**\n",
    "https://www.acmicpc.net/problem/2748   \n",
    " \"n은 90보다 작거나 같은 자연수이다.\""
   ]
  },
  {
   "cell_type": "code",
   "execution_count": 5,
   "metadata": {},
   "outputs": [
    {
     "name": "stdout",
     "output_type": "stream",
     "text": [
      "55\n"
     ]
    }
   ],
   "source": [
    "def f(n):\n",
    "    if n == 0:\n",
    "        return 0\n",
    "    elif n == 1:\n",
    "        return 1\n",
    "    \n",
    "    return f(n-1) + f(n-2)\n",
    "\n",
    "print(f(int(input())))"
   ]
  },
  {
   "cell_type": "code",
   "execution_count": 3,
   "metadata": {},
   "outputs": [
    {
     "name": "stdout",
     "output_type": "stream",
     "text": [
      "2880067194370816120\n"
     ]
    }
   ],
   "source": [
    "# 정답\n",
    "## n이 클 경우에 대비하기 위하여 memorization 적용\n",
    "cache = [-1] * 91   # 피보나치 수는 보통 0이상인 값들이기 때문에 초기값을 음수로 지정하면 n번째 cache에 음수가 들어가있는지 안들어가있는지 판단가능\n",
    "cache[0] = 0\n",
    "cache[1] = 1\n",
    "\n",
    "def f(n):\n",
    "    if cache[n] == -1:\n",
    "        cache[n] = f(n-1) + f(n-2)\n",
    "    \n",
    "    return cache[n]\n",
    "\n",
    "print(f(int(input())))"
   ]
  },
  {
   "cell_type": "code",
   "execution_count": 7,
   "metadata": {},
   "outputs": [
    {
     "name": "stdout",
     "output_type": "stream",
     "text": [
      "832040\n",
      "cnt(f호출 횟수): 59\n"
     ]
    }
   ],
   "source": [
    "cache = [-1] * 91\n",
    "cache[0] = 0\n",
    "cache[1] = 1\n",
    "cnt = 0\n",
    "\n",
    "def f(n):\n",
    "    global cnt\n",
    "    \n",
    "    cnt += 1\n",
    "    if cache[n] == -1:\n",
    "        cache[n] = f(n-1) + f(n-2)\n",
    "    \n",
    "    return cache[n]\n",
    "\n",
    "print(f(int(input())))\n",
    "print(f'cnt(f호출 횟수): {cnt}')"
   ]
  },
  {
   "attachments": {},
   "cell_type": "markdown",
   "metadata": {},
   "source": [
    "**반복문으로 풀기**"
   ]
  },
  {
   "cell_type": "code",
   "execution_count": 9,
   "metadata": {},
   "outputs": [
    {
     "name": "stdout",
     "output_type": "stream",
     "text": [
      "2880067194370816120\n"
     ]
    }
   ],
   "source": [
    "N = int(input())\n",
    "cache = [-1] * 91\n",
    "cache[0] = 0\n",
    "cache[1] = 1\n",
    "\n",
    "for i in range(2, N+1):\n",
    "    cache[i] = cache[i-1] + cache[i-2]\n",
    "    \n",
    "print(cache[N])"
   ]
  },
  {
   "attachments": {},
   "cell_type": "markdown",
   "metadata": {},
   "source": [
    "## **#11051 이항계수2**\n",
    "\"10007로 나눈 나머지를 출력\" → 10007 미만의 숫자만 출력되도록"
   ]
  },
  {
   "cell_type": "code",
   "execution_count": 12,
   "metadata": {},
   "outputs": [
    {
     "name": "stdout",
     "output_type": "stream",
     "text": [
      "10\n"
     ]
    }
   ],
   "source": [
    "import sys\n",
    "\n",
    "mod = 10007\n",
    "sys.setrecursionlimit(10**7)\n",
    "\n",
    "N, K = map(int, input().split())\n",
    "\n",
    "def bino(n,k):\n",
    "    if k == 0 or k == n:\n",
    "        return 1\n",
    "    \n",
    "    return bino(n-1, k-1) + bino(n-1, k)\n",
    "\n",
    "\n",
    "\n",
    "print(bino(N,K))"
   ]
  },
  {
   "cell_type": "code",
   "execution_count": 17,
   "metadata": {},
   "outputs": [
    {
     "name": "stdout",
     "output_type": "stream",
     "text": [
      "5418\n"
     ]
    }
   ],
   "source": [
    "# memoization 적용\n",
    "\n",
    "import sys\n",
    "\n",
    "mod = 10007\n",
    "sys.setrecursionlimit(10 ** 7)\n",
    "\n",
    "cache = [[0] * 1001 for _ in range(1001)]  # 0 or 1 (but 0만 실행됨)\n",
    "N, K = map(int, input().split())\n",
    "\n",
    "def bino(n,k):\n",
    "    if cache[n][k]:\n",
    "        return cache[n][k]\n",
    "    \n",
    "    if k == 0 or k == n:\n",
    "        cache[n][k] = 1\n",
    "    else:\n",
    "        cache[n][k] = bino(n-1, k-1) + bino(n-1, k)\n",
    "        cache[n][k] %= mod  # 10007로 나눠줌\n",
    "\n",
    "    return cache[n][k]\n",
    "\n",
    "print(bino(N,K))"
   ]
  }
 ],
 "metadata": {
  "kernelspec": {
   "display_name": "base",
   "language": "python",
   "name": "python3"
  },
  "language_info": {
   "codemirror_mode": {
    "name": "ipython",
    "version": 3
   },
   "file_extension": ".py",
   "mimetype": "text/x-python",
   "name": "python",
   "nbconvert_exporter": "python",
   "pygments_lexer": "ipython3",
   "version": "3.9.7"
  },
  "orig_nbformat": 4,
  "vscode": {
   "interpreter": {
    "hash": "ad2bdc8ecc057115af97d19610ffacc2b4e99fae6737bb82f5d7fb13d2f2c186"
   }
  }
 },
 "nbformat": 4,
 "nbformat_minor": 2
}
