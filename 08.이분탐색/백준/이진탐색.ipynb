{
 "cells": [
  {
   "attachments": {},
   "cell_type": "markdown",
   "metadata": {},
   "source": [
    "# **이진탐색(Binary Search)**\n",
    "탐색 전에 반드시 정렬되어있어야함    \n",
    "살펴보는 범위를 절반씩 줄여가면서 답 찾기   \n",
    "\n",
    "**시간복잡도**     \n",
    "(일반적으로)    \n",
    "정렬(NlognN) + 이진탐색(logN) → NlogN   \n",
    "(미리 정렬하면)    \n",
    "logN    \n",
    "\n",
    "**Case**     \n",
    "탐색을 한번이 아닌 여러번 해야할 경우, 선형탐색보다는 이진탐색이 더 유리\n",
    "\n"
   ]
  },
  {
   "cell_type": "code",
   "execution_count": 1,
   "metadata": {},
   "outputs": [
    {
     "name": "stdout",
     "output_type": "stream",
     "text": [
      "number of 3: 2\n",
      "number of 4: 0\n",
      "number of 6: 3\n"
     ]
    }
   ],
   "source": [
    "from bisect import bisect_left, bisect_right\n",
    "\n",
    "v = (0,1,3,3,6,6,6,7,8,8,9) # 선형 자료구조의 이름을 전달\n",
    "# 탐색할 값 전달\n",
    "three = bisect_right(v,3) - bisect_left(v,3) # 3초과인 것들 중 첫번째 위치의 배열값 - 3이상인 것들 중 첫번째 위치의 배열값\n",
    "four = bisect_right(v,4) - bisect_left(v,4) \n",
    "six = bisect_right(v,6) - bisect_left(v,6) \n",
    "print(f'number of 3: {three}')  # 4-2\n",
    "print(f'number of 4: {four}')   # 4-4\n",
    "print(f'number of 6: {six}')    # 7-4"
   ]
  },
  {
   "attachments": {},
   "cell_type": "markdown",
   "metadata": {},
   "source": [
    "## **파라메트릭 서치**\n",
    "- 최적화 문제를 결정문제로 바꿔서 이진탐색으로 푸는 방법\n",
    "- 최적화 문제: 문제 상황을 만족하는 변수의 최솟값, 최댓값을 구하는 문제\n",
    "- 결정문제: True/False 문제\n"
   ]
  },
  {
   "attachments": {},
   "cell_type": "markdown",
   "metadata": {},
   "source": [
    "## **#2512 예산**\n",
    "https://www.acmicpc.net/problem/2512         \n",
    "(0원 ~ 각 지역의 요청 예산금액의 최대값)범위에서 가운데에 위치한 금액을 상한선으로 간주 후, 총 예산금액(합)을 유추하여, 가능하다면 더 높은 금액으로, 불가능하다면 더 낮은 금액으로 상한선을 잡아간다.  → 즉, 이분탐색 사용(10000 X log2의100000) "
   ]
  },
  {
   "cell_type": "code",
   "execution_count": 4,
   "metadata": {},
   "outputs": [
    {
     "name": "stdout",
     "output_type": "stream",
     "text": [
      "low: 0, mid: 75, high: 150, ans: 0\n",
      "low: 76, mid: 113, high: 150, ans: 75\n",
      "low: 114, mid: 132, high: 150, ans: 113\n",
      "low: 114, mid: 122, high: 131, ans: 113\n",
      "low: 123, mid: 127, high: 131, ans: 122\n",
      "low: 128, mid: 129, high: 131, ans: 127\n",
      "low: 128, mid: 128, high: 128, ans: 127\n",
      "127\n"
     ]
    }
   ],
   "source": [
    "N = int(input())\n",
    "req = list(map(int, input().split()))\n",
    "M = int(input())\n",
    "\n",
    "# 이분탐색을 위한 탐색 범위 설정\n",
    "low = 0\n",
    "high = max(req)\n",
    "mid = (low + high) // 2\n",
    "ans = 0\n",
    "\n",
    "def is_possible(mid):\n",
    "    return sum(min(r, mid) for r in req) <= M  # 총 합이 M이하이면 가능\n",
    "    \n",
    "    \n",
    "while low <= high:\n",
    "    print(f\"low: {low}, mid: {mid}, high: {high}, ans: {ans}\")\n",
    "    if is_possible(mid): \n",
    "        low = mid + 1\n",
    "        ans = mid\n",
    "    else:\n",
    "        high = mid - 1\n",
    "    \n",
    "    mid = (low + high)//2\n",
    "    \n",
    "    \n",
    "print(ans)\n",
    "    "
   ]
  },
  {
   "cell_type": "code",
   "execution_count": 5,
   "metadata": {},
   "outputs": [
    {
     "name": "stdout",
     "output_type": "stream",
     "text": [
      "127\n"
     ]
    }
   ],
   "source": [
    "# 정답\n",
    "N = int(input())\n",
    "req = list(map(int, input().split()))\n",
    "M = int(input())\n",
    "\n",
    "low = 0\n",
    "high = max(req)\n",
    "mid = (low + high) // 2\n",
    "ans = 0\n",
    "\n",
    "def is_possible(mid):\n",
    "    return sum(min(r, mid) for r in req) <= M  # 총 합이 M이하이면 가능\n",
    "    \n",
    "    \n",
    "while low <= high:\n",
    "    if is_possible(mid): \n",
    "        low = mid + 1\n",
    "        ans = mid\n",
    "    else:\n",
    "        high = mid - 1\n",
    "    \n",
    "    mid = (low + high)//2\n",
    "    \n",
    "    \n",
    "print(ans)\n",
    "    "
   ]
  },
  {
   "attachments": {},
   "cell_type": "markdown",
   "metadata": {},
   "source": [
    "## **#10815 숫자카드**\n",
    "https://www.acmicpc.net/problem/10815       \n",
    "입력 넷째줄에 적힌 여러 숫자들을 입력 둘째줄에 적힌 숫자들과 비교하여, 같은 숫자가 있는지 확인(있으면 1, 없으면 0)"
   ]
  },
  {
   "cell_type": "code",
   "execution_count": 6,
   "metadata": {},
   "outputs": [
    {
     "name": "stdout",
     "output_type": "stream",
     "text": [
      "[-10, 2, 3, 6, 10]\n",
      "4 5\n",
      "4 4\n",
      "1 1\n",
      "1 2\n",
      "2 3\n",
      "3 3\n",
      "3 3\n",
      "0 1\n"
     ]
    }
   ],
   "source": [
    "from bisect import bisect_left, bisect_right\n",
    "\n",
    "N = int(input())\n",
    "cards = sorted(map(int, input().split()))  # 이분탐색을 위해 정렬\n",
    "print(cards)\n",
    "M = int(input())\n",
    "qry = list(map(int, input().split()))\n",
    "# 선형탐색으로 찾을 시  BIG(NM)으로 500,000 * 500,000 로 시간초과 발생\n",
    "# 이분탐색시 M * log(N) 500,000 * log(500,000)\n",
    "\n",
    "ans = []\n",
    "for q in qry:\n",
    "    l = bisect_left(cards,q)   # q 이상인 값들 중 첫번째인 값의 배열 위치\n",
    "    r = bisect_right(cards,q)  # q 초과인 값들 중 첫번째인 값의 배열 위치\n",
    "    print(l,r)\n",
    "    # ans.append()\n"
   ]
  },
  {
   "cell_type": "code",
   "execution_count": 7,
   "metadata": {},
   "outputs": [
    {
     "name": "stdout",
     "output_type": "stream",
     "text": [
      "[1, 0, 0, 1, 1, 0, 0, 1]\n",
      "1 0 0 1 1 0 0 1\n"
     ]
    }
   ],
   "source": [
    "# 런타임 에러...\n",
    "\n",
    "from bisect import bisect_left, bisect_right\n",
    "\n",
    "N = int(input())\n",
    "cards = sorted(map(int, input().split()))\n",
    "M = int(input())\n",
    "qry = list(map(int, input().split()))\n",
    "ans = []\n",
    "\n",
    "for q in qry:\n",
    "    l = bisect_left(cards,q)\n",
    "    # r = bisect_right(cards,q)\n",
    "    ans.append(1 if cards[l] == q else 0)\n",
    "\n",
    "'''\n",
    "for q in qry:\n",
    "    l = bisect_left(cards,q)\n",
    "    if cards[l] == q:\n",
    "        ans.append(1)\n",
    "    else:\n",
    "        ans.append(0)\n",
    "'''\n",
    "print(ans)\n",
    "print(*ans)   # print(' '.join(map(str, ans)))"
   ]
  },
  {
   "cell_type": "code",
   "execution_count": 10,
   "metadata": {},
   "outputs": [
    {
     "name": "stdout",
     "output_type": "stream",
     "text": [
      "1 0 0 1 1 0 0 1\n"
     ]
    }
   ],
   "source": [
    "# 정답\n",
    "\n",
    "from bisect import bisect_left, bisect_right\n",
    "\n",
    "N = int(input())\n",
    "cards = sorted(map(int, input().split()))\n",
    "M = int(input())\n",
    "qry = list(map(int, input().split()))\n",
    "ans = []\n",
    "for q in qry:\n",
    "    l = bisect_left(cards,q)\n",
    "    r = bisect_right(cards,q)\n",
    "    ans.append(1 if (r - l) > 0 else 0)   # r-l: q가 카드에 몇개 있는지를 나타냄 (따라서 r-l > 0 이면 카드가 존재)\n",
    "    \n",
    "print(*ans)   # print(' '.join(map(str, ans)))\n",
    "    \n"
   ]
  }
 ],
 "metadata": {
  "kernelspec": {
   "display_name": "base",
   "language": "python",
   "name": "python3"
  },
  "language_info": {
   "codemirror_mode": {
    "name": "ipython",
    "version": 3
   },
   "file_extension": ".py",
   "mimetype": "text/x-python",
   "name": "python",
   "nbconvert_exporter": "python",
   "pygments_lexer": "ipython3",
   "version": "3.9.7 (default, Sep 16 2021, 16:59:28) [MSC v.1916 64 bit (AMD64)]"
  },
  "orig_nbformat": 4,
  "vscode": {
   "interpreter": {
    "hash": "ad2bdc8ecc057115af97d19610ffacc2b4e99fae6737bb82f5d7fb13d2f2c186"
   }
  }
 },
 "nbformat": 4,
 "nbformat_minor": 2
}
