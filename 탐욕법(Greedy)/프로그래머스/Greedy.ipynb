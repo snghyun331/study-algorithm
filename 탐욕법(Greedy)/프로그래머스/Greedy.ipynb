{
 "cells": [
  {
   "cell_type": "markdown",
   "id": "0077038c",
   "metadata": {},
   "source": [
    "# 체육복"
   ]
  },
  {
   "cell_type": "code",
   "execution_count": 4,
   "id": "6667bd21",
   "metadata": {},
   "outputs": [
    {
     "name": "stdout",
     "output_type": "stream",
     "text": [
      "2\n",
      "[3, 5]\n",
      "[4]\n"
     ]
    }
   ],
   "source": [
    "def solution(n, lost, reserve):\n",
    "    final_reserve = list(set(reserve) - set(lost))   # 여벌 체육복을 가져온 학생이 도난당할 수도 있으니까 도난당한 여벌 소유자는 최종 여벌 소유자에서 제외\n",
    "    \n",
    "    for l in lost:\n",
    "        print(l)\n",
    "        if (l-1 in final_reserve):\n",
    "            final_reserve.remove(l-1)\n",
    "            print(final_reserve)\n",
    "            lost.remove(l)\n",
    "            print(lost)\n",
    "            \n",
    "solution(5, [2,4], [1,3,5])"
   ]
  },
  {
   "cell_type": "code",
   "execution_count": 5,
   "id": "b8428e3b",
   "metadata": {},
   "outputs": [
    {
     "ename": "TypeError",
     "evalue": "unsupported operand type(s) for -: 'list' and 'list'",
     "output_type": "error",
     "traceback": [
      "\u001b[1;31m---------------------------------------------------------------------------\u001b[0m",
      "\u001b[1;31mTypeError\u001b[0m                                 Traceback (most recent call last)",
      "\u001b[1;32mC:\\Users\\Public\\Documents\\ESTsoft\\CreatorTemp/ipykernel_9400/4178233676.py\u001b[0m in \u001b[0;36m<module>\u001b[1;34m\u001b[0m\n\u001b[1;32m----> 1\u001b[1;33m \u001b[0mprint\u001b[0m\u001b[1;33m(\u001b[0m\u001b[1;33m[\u001b[0m\u001b[1;36m1\u001b[0m\u001b[1;33m,\u001b[0m\u001b[1;36m2\u001b[0m\u001b[1;33m,\u001b[0m\u001b[1;36m3\u001b[0m\u001b[1;33m]\u001b[0m \u001b[1;33m-\u001b[0m \u001b[1;33m[\u001b[0m\u001b[1;36m2\u001b[0m\u001b[1;33m,\u001b[0m\u001b[1;36m3\u001b[0m\u001b[1;33m]\u001b[0m\u001b[1;33m)\u001b[0m\u001b[1;33m\u001b[0m\u001b[1;33m\u001b[0m\u001b[0m\n\u001b[0m",
      "\u001b[1;31mTypeError\u001b[0m: unsupported operand type(s) for -: 'list' and 'list'"
     ]
    }
   ],
   "source": [
    "print([1,2,3] - [2,3])"
   ]
  },
  {
   "cell_type": "code",
   "execution_count": null,
   "id": "e6b53b1b",
   "metadata": {},
   "outputs": [],
   "source": []
  }
 ],
 "metadata": {
  "kernelspec": {
   "display_name": "Python 3 (ipykernel)",
   "language": "python",
   "name": "python3"
  },
  "language_info": {
   "codemirror_mode": {
    "name": "ipython",
    "version": 3
   },
   "file_extension": ".py",
   "mimetype": "text/x-python",
   "name": "python",
   "nbconvert_exporter": "python",
   "pygments_lexer": "ipython3",
   "version": "3.9.7"
  }
 },
 "nbformat": 4,
 "nbformat_minor": 5
}
