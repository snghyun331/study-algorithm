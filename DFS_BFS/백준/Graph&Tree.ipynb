{
 "cells": [
  {
   "attachments": {},
   "cell_type": "markdown",
   "metadata": {},
   "source": [
    "## **#11724 연결요소의 개수**\n",
    "https://www.acmicpc.net/problem/11724       \n",
    "\"0 ≤ M ≤ N×(N-1)/2\" : 자기자신을 뽑는 노드를 제외한 나머지  \n",
    "즉, 간선이 최대로 많이 들어오는 경우는 자기자신((0,0),(1,1)...)칸을 제외한 나머지 칸들이 다 1로 채워질 수 있다.  → 간선 개수가 거의 N^2에 육박 → 따라서 인접행렬"
   ]
  },
  {
   "cell_type": "code",
   "execution_count": 2,
   "metadata": {},
   "outputs": [
    {
     "name": "stdout",
     "output_type": "stream",
     "text": [
      "[0, 1, 0, 0, 1, 0]\n",
      "[1, 0, 0, 0, 1, 0]\n",
      "[0, 0, 0, 1, 0, 0]\n",
      "[0, 0, 1, 0, 0, 1]\n",
      "[1, 1, 0, 0, 0, 0]\n",
      "[0, 0, 0, 1, 0, 0]\n"
     ]
    }
   ],
   "source": [
    "N, M = map(int, input().split())\n",
    "adj = [[0] * N for _ in range(N)]   # 인접행렬\n",
    "for _ in range(M):\n",
    "    a,b = map(lambda x: x - 1, map(int, input().split())) # M줄 만큼 간선정보가 들어온다, \"1 ≤ u, v ≤ N (즉, 1부터 시작)\"이므로 a와 b에 1씩 뺀 값이 들어간다\n",
    "    adj[a][b] = adj[b][a] = 1  # 무방향 (즉 양방향)\n",
    "    \n",
    "for row in adj:\n",
    "    print(row)  # 인접행렬 출력\n",
    "    "
   ]
  },
  {
   "cell_type": "code",
   "execution_count": 5,
   "metadata": {},
   "outputs": [
    {
     "name": "stdout",
     "output_type": "stream",
     "text": [
      "2\n"
     ]
    }
   ],
   "source": [
    "# 정답\n",
    "\n",
    "import sys\n",
    "sys.setrecursionlimit(10 ** 6)   # 깊이제한 늘려주기 (1000 -> 1000000)\n",
    "input = sys.stdin.readline\n",
    "\n",
    "N, M = map(int, input().split())\n",
    "adj = [[0] * N for _ in range(N)]   # 인접행렬\n",
    "for _ in range(M):\n",
    "    a,b = map(lambda x: x - 1, map(int, input().split())) # M줄 만큼 간선정보가 들어온다, \"1 ≤ u, v ≤ N (즉, 1부터 시작)\"이므로 a와 b에 1씩 뺀 값이 들어간다\n",
    "    adj[a][b] = adj[b][a] = 1  # 무방향 (즉 양방향)\n",
    "\n",
    "ans = 0    # 연결요소개수\n",
    "check = [False] * N\n",
    "\n",
    "def dfs(now):\n",
    "    for next in range(N):\n",
    "        if adj[now][next] and not check[next]:   # now에서 next로 갈 수 있는 간선이 존재하고, 이전에 방문한 적이 없다면\n",
    "            check[next] = True   # 체크해주고\n",
    "            dfs(next)   # next로 간다\n",
    "    \n",
    "for i in range(N):\n",
    "    if not check[i]:   # 체크 안된 얘를 발견하면\n",
    "        ans += 1   # 연결요소 개수 늘리고 ★★\n",
    "        check[i] = True  # 체크해주고\n",
    "        dfs(i)\n",
    "        \n",
    "print(ans)"
   ]
  },
  {
   "attachments": {},
   "cell_type": "markdown",
   "metadata": {},
   "source": [
    "## **#2178미로**\n",
    "https://www.acmicpc.net/problem/2178"
   ]
  },
  {
   "cell_type": "code",
   "execution_count": 7,
   "metadata": {},
   "outputs": [
    {
     "name": "stdout",
     "output_type": "stream",
     "text": [
      "38\n"
     ]
    }
   ],
   "source": [
    "# 정답\n",
    "from collections import deque\n",
    "\n",
    "dy = (0, 1, 0, -1)\n",
    "dx = (1, 0, -1, 0)\n",
    "N,M = map(int,input().split())\n",
    "board = [input() for _ in range(N)]\n",
    "\n",
    "def is_valid_coord(y,x):\n",
    "    return 0 <= y < N and 0 <= x < M\n",
    "    \n",
    "def bfs():\n",
    "    check = [[False] * M for _ in range(N)]   # board와 똑같은 배열\n",
    "    check[0][0] = True\n",
    "    dq = deque()\n",
    "    dq.append((0,0,1))  # 좌표(0,0)와 카운트(1)\n",
    "    while dq:\n",
    "        y, x, count = dq.popleft()\n",
    "        \n",
    "        if y == N - 1 and x == M - 1:   # \"항상 도착위치로 이동할 수 있는 경우만 입력으로 주어진다.\"\n",
    "            return count\n",
    "        \n",
    "        nd = count + 1\n",
    "        for k in range(4):\n",
    "            ny = y + dy[k]   # next y좌표를 현재 좌표에서 dy를 더해서\n",
    "            nx = x + dx[k]   # next x좌표를 현재 좌표에서 dx를 더해서\n",
    "            if is_valid_coord(ny,nx) and board[ny][nx] == '1' and not check[ny][nx]:   # 범위를 벗어나지 않는 유효한 좌표이고, 1인 경우이고, 이전 방문 기록이 없는 경우에만\n",
    "                check[ny][nx] = True   # 체크해주고\n",
    "                dq.append((ny,nx, nd))  # 방문한다.\n",
    "    \n",
    "    # return -1   # 만약 도착위치로 도착할 수 없으면 -1을 출력해라           \n",
    "print(bfs())"
   ]
  }
 ],
 "metadata": {
  "kernelspec": {
   "display_name": "base",
   "language": "python",
   "name": "python3"
  },
  "language_info": {
   "codemirror_mode": {
    "name": "ipython",
    "version": 3
   },
   "file_extension": ".py",
   "mimetype": "text/x-python",
   "name": "python",
   "nbconvert_exporter": "python",
   "pygments_lexer": "ipython3",
   "version": "3.9.7"
  },
  "orig_nbformat": 4,
  "vscode": {
   "interpreter": {
    "hash": "ad2bdc8ecc057115af97d19610ffacc2b4e99fae6737bb82f5d7fb13d2f2c186"
   }
  }
 },
 "nbformat": 4,
 "nbformat_minor": 2
}
