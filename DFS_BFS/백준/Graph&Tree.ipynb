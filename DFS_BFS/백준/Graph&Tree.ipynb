{
 "cells": [
  {
   "attachments": {},
   "cell_type": "markdown",
   "metadata": {},
   "source": [
    "# DFS, BFS, 백트래킹"
   ]
  },
  {
   "attachments": {},
   "cell_type": "markdown",
   "metadata": {},
   "source": [
    "**인접행렬 vs 인접리스트**    \n",
    "→ Notion"
   ]
  },
  {
   "attachments": {},
   "cell_type": "markdown",
   "metadata": {},
   "source": [
    "## DFS(깊이 우선 탐색)\n",
    ": 완전탐색, 모든 경우의 수를 탐색, 스택이나 재귀를 사용해서 구현\n",
    "- 가볼 수 있는 노드로 진행하고, 또 갈 수 있는 노드가 존재하면 계속 진행하다가, 더 갈 수 없으면 올라오는 방식\n"
   ]
  },
  {
   "cell_type": "code",
   "execution_count": 1,
   "metadata": {},
   "outputs": [
    {
     "name": "stdout",
     "output_type": "stream",
     "text": [
      "[0, 1, 0, 0, 0, 0, 0, 1, 0, 0, 0, 0, 0]\n",
      "[0, 0, 1, 0, 0, 1, 0, 0, 0, 0, 0, 0, 0]\n",
      "[0, 0, 0, 0, 0, 0, 0, 0, 0, 0, 0, 0, 0]\n",
      "[0, 0, 0, 0, 0, 0, 0, 0, 0, 0, 0, 0, 0]\n",
      "[0, 0, 0, 0, 0, 0, 0, 0, 0, 0, 0, 0, 0]\n",
      "[0, 0, 0, 0, 0, 0, 0, 0, 0, 0, 0, 0, 0]\n",
      "[0, 0, 0, 0, 0, 0, 0, 0, 0, 0, 0, 0, 0]\n",
      "[0, 0, 0, 0, 0, 0, 0, 0, 0, 0, 0, 0, 0]\n",
      "[0, 0, 0, 0, 0, 0, 0, 0, 0, 0, 0, 0, 0]\n",
      "[0, 0, 0, 0, 0, 0, 0, 0, 0, 0, 0, 0, 0]\n",
      "[0, 0, 0, 0, 0, 0, 0, 0, 0, 0, 0, 0, 0]\n",
      "[0, 0, 0, 0, 0, 0, 0, 0, 0, 0, 0, 0, 0]\n",
      "[0, 0, 0, 0, 0, 0, 0, 0, 0, 0, 0, 0, 0]\n"
     ]
    }
   ],
   "source": [
    "adj = [[0]*13 for _ in range(13)]  # adjacent 인접 행렬\n",
    "adj[0][1] = adj[0][7] = 1    # 1,7이 같은 레벨\n",
    "adj[1][2] = adj[1][5] = 1    # 2,5가 같은 레벨\n",
    "# ....\n",
    "for row in adj:\n",
    "    print(row)   # 인접행렬 출력"
   ]
  },
  {
   "cell_type": "code",
   "execution_count": null,
   "metadata": {},
   "outputs": [],
   "source": [
    "adj = [[0]*13 for _ in range(13)]  # adjacent 인접 행렬\n",
    "adj[0][1] = adj[0][7] = 1    # 1,7이 같은 레벨\n",
    "adj[1][2] = adj[1][5] = 1    # 2,5가 같은 레벨\n",
    "\n",
    "# 재귀\n",
    "def dfs(now):   # now: 현재 방문하는 노드 번호\n",
    "    for next in range(13):    # 다음 방문하려는 노드\n",
    "        if adj[now][next]:    # 현재에서 다음에 가려는 간선이 있으면,\n",
    "            dfs(next)         # next번 노드로 탐색 진행\n",
    "\n",
    "dfs(0)"
   ]
  },
  {
   "attachments": {},
   "cell_type": "markdown",
   "metadata": {},
   "source": [
    "## BFS(너비우선탐색)\n",
    ": 완전탐색, 큐를 사용해서 구현\n",
    "- DFS와의 차이점: 탐색순서가 다름"
   ]
  },
  {
   "cell_type": "code",
   "execution_count": 4,
   "metadata": {},
   "outputs": [],
   "source": [
    "from collections import deque\n",
    "\n",
    "adj = [[0]*13 for _ in range(13)]  # adjacent 인접 행렬\n",
    "adj[0][1] = adj[0][2] = 1    # 1,7이 같은 레벨\n",
    "adj[1][3] = adj[1][4] = 1    # 2,5가 같은 레벨\n",
    "\n",
    "def bfs():\n",
    "    dq = deque()\n",
    "    dq.append(0)   # 루트 노드 setting\n",
    "    while dq:   # 덱을 반복: 덱에서 값을 하나빼고(pop) 그 노드에서 갈 수 있는 다음 노드들을 삽입(push)\n",
    "        now = dq.popleft()\n",
    "        for next in range(13):\n",
    "            if adj[now][next]:\n",
    "                dq.append(next)\n",
    "                \n",
    "bfs()\n"
   ]
  },
  {
   "attachments": {},
   "cell_type": "markdown",
   "metadata": {},
   "source": [
    "**dfs bfs 최단거리 문제**    \n",
    "→ 왼쪽에서 시작할때  vs 오른쪽에서 시작할 때    \n",
    "(bfs가 시간면에서 더 유리 - 이유: 처음 목표 노드를 만났을 때의 거리가 최단거리일 확률이 매우 높기 때문에 답을 찾으면 바로 종료함)"
   ]
  },
  {
   "attachments": {},
   "cell_type": "markdown",
   "metadata": {},
   "source": [
    "### (예제) 길찾기\n",
    "- 방문체크 필요\n",
    "- 각 칸이 노드"
   ]
  },
  {
   "cell_type": "code",
   "execution_count": 5,
   "metadata": {},
   "outputs": [],
   "source": [
    "dy = (0,1,0,-1)\n",
    "dx = (1,0,-1,0)\n",
    "check = [[False]*100 for _ in range(100)]\n",
    "N = int(input())\n",
    "\n",
    "def is_valid_coord(y,x):\n",
    "    return 0 <= y < N and 0 <= x < N\n",
    "\n",
    "def bfs(start_y, start_x):\n",
    "    q = deque()\n",
    "    q.append((start_y, start_x))\n",
    "    while len(q) > 0:\n",
    "        y, x = q.popleft()    # 덱에서 빠진 것이 좌표를 나타냄\n",
    "        check[y][x] = True   # 방문체크\n",
    "        for k in range(4):   # 다음 방문을 하려는 곳은 총 후보 4개의 간선(상하좌우)\n",
    "            ny = y + dy[k]\n",
    "            nx = x + dx[k]\n",
    "            if is_valid_coord(ny,nx) and not check[ny][nx]:   # 유효한 칸이면서 방문한 적없는 곳이라면,\n",
    "                q.append((ny,nx))   # 한번 가보겠다.\n",
    "                \n",
    "bfs(0,0)"
   ]
  },
  {
   "attachments": {},
   "cell_type": "markdown",
   "metadata": {},
   "source": [
    "## **#11724 연결요소의 개수**\n",
    "https://www.acmicpc.net/problem/11724       \n",
    "\"0 ≤ M ≤ N×(N-1)/2\" : 자기자신을 뽑는 노드를 제외한 나머지  \n",
    "즉, 간선이 최대로 많이 들어오는 경우는 자기자신((0,0),(1,1)...)칸을 제외한 나머지 칸들이 다 1로 채워질 수 있다.  → 간선 개수가 거의 N^2에 육박 → 따라서 인접행렬"
   ]
  },
  {
   "cell_type": "code",
   "execution_count": 2,
   "metadata": {},
   "outputs": [
    {
     "name": "stdout",
     "output_type": "stream",
     "text": [
      "[0, 1, 0, 0, 1, 0]\n",
      "[1, 0, 0, 0, 1, 0]\n",
      "[0, 0, 0, 1, 0, 0]\n",
      "[0, 0, 1, 0, 0, 1]\n",
      "[1, 1, 0, 0, 0, 0]\n",
      "[0, 0, 0, 1, 0, 0]\n"
     ]
    }
   ],
   "source": [
    "N, M = map(int, input().split())\n",
    "adj = [[0] * N for _ in range(N)]   # 인접행렬\n",
    "for _ in range(M):\n",
    "    a,b = map(lambda x: x - 1, map(int, input().split())) # M줄 만큼 간선정보가 들어온다, \"1 ≤ u, v ≤ N (즉, 1부터 시작)\"이므로 a와 b에 1씩 뺀 값이 들어간다\n",
    "    adj[a][b] = adj[b][a] = 1  # 무방향 (즉 양방향)\n",
    "    \n",
    "for row in adj:\n",
    "    print(row)  # 인접행렬 출력\n",
    "    "
   ]
  },
  {
   "cell_type": "code",
   "execution_count": 5,
   "metadata": {},
   "outputs": [
    {
     "name": "stdout",
     "output_type": "stream",
     "text": [
      "2\n"
     ]
    }
   ],
   "source": [
    "# 정답\n",
    "\n",
    "import sys\n",
    "sys.setrecursionlimit(10 ** 6)   # 깊이제한 늘려주기 (1000 -> 1000000)\n",
    "input = sys.stdin.readline\n",
    "\n",
    "N, M = map(int, input().split())\n",
    "adj = [[0] * N for _ in range(N)]   # 인접행렬\n",
    "for _ in range(M):\n",
    "    a,b = map(lambda x: x - 1, map(int, input().split())) # M줄 만큼 간선정보가 들어온다, \"1 ≤ u, v ≤ N (즉, 1부터 시작)\"이므로 a와 b에 1씩 뺀 값이 들어간다\n",
    "    adj[a][b] = adj[b][a] = 1  # 무방향 (즉 양방향)\n",
    "\n",
    "ans = 0    # 연결요소개수\n",
    "check = [False] * N\n",
    "\n",
    "def dfs(now):\n",
    "    for next in range(N):\n",
    "        if adj[now][next] and not check[next]:   # now에서 next로 갈 수 있는 간선이 존재하고, 이전에 방문한 적이 없다면\n",
    "            check[next] = True   # 체크해주고\n",
    "            dfs(next)   # next로 간다\n",
    "    \n",
    "for i in range(N):\n",
    "    if not check[i]:   # 체크 안된 얘를 발견하면\n",
    "        ans += 1   # 연결요소 개수 늘리고 ★★\n",
    "        check[i] = True  # 체크해주고\n",
    "        dfs(i)\n",
    "        \n",
    "print(ans)"
   ]
  },
  {
   "attachments": {},
   "cell_type": "markdown",
   "metadata": {},
   "source": [
    "## **#2178미로**\n",
    "https://www.acmicpc.net/problem/2178"
   ]
  },
  {
   "cell_type": "code",
   "execution_count": 7,
   "metadata": {},
   "outputs": [
    {
     "name": "stdout",
     "output_type": "stream",
     "text": [
      "38\n"
     ]
    }
   ],
   "source": [
    "# 정답\n",
    "from collections import deque\n",
    "\n",
    "dy = (0, 1, 0, -1)\n",
    "dx = (1, 0, -1, 0)\n",
    "N,M = map(int,input().split())\n",
    "board = [input() for _ in range(N)]\n",
    "\n",
    "def is_valid_coord(y,x):\n",
    "    return 0 <= y < N and 0 <= x < M\n",
    "    \n",
    "def bfs():\n",
    "    check = [[False] * M for _ in range(N)]   # board와 똑같은 배열\n",
    "    check[0][0] = True\n",
    "    dq = deque()\n",
    "    dq.append((0,0,1))  # 좌표(0,0)와 카운트(1)\n",
    "    while dq:\n",
    "        y, x, count = dq.popleft()\n",
    "        \n",
    "        if y == N - 1 and x == M - 1:   # \"항상 도착위치로 이동할 수 있는 경우만 입력으로 주어진다.\"\n",
    "            return count\n",
    "        \n",
    "        nd = count + 1\n",
    "        for k in range(4):\n",
    "            ny = y + dy[k]   # next y좌표를 현재 좌표에서 dy를 더해서\n",
    "            nx = x + dx[k]   # next x좌표를 현재 좌표에서 dx를 더해서\n",
    "            if is_valid_coord(ny,nx) and board[ny][nx] == '1' and not check[ny][nx]:   # 범위를 벗어나지 않는 유효한 좌표이고, 1인 경우이고, 이전 방문 기록이 없는 경우에만\n",
    "                check[ny][nx] = True   # 체크해주고\n",
    "                dq.append((ny,nx, nd))  # 방문한다.\n",
    "    \n",
    "    # return -1   # 만약 도착위치로 도착할 수 없으면 -1을 출력해라           \n",
    "print(bfs())"
   ]
  }
 ],
 "metadata": {
  "kernelspec": {
   "display_name": "base",
   "language": "python",
   "name": "python3"
  },
  "language_info": {
   "codemirror_mode": {
    "name": "ipython",
    "version": 3
   },
   "file_extension": ".py",
   "mimetype": "text/x-python",
   "name": "python",
   "nbconvert_exporter": "python",
   "pygments_lexer": "ipython3",
   "version": "3.9.7"
  },
  "orig_nbformat": 4,
  "vscode": {
   "interpreter": {
    "hash": "ad2bdc8ecc057115af97d19610ffacc2b4e99fae6737bb82f5d7fb13d2f2c186"
   }
  }
 },
 "nbformat": 4,
 "nbformat_minor": 2
}
