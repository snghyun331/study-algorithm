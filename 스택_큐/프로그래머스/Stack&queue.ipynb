{
 "cells": [
  {
   "cell_type": "code",
   "execution_count": 19,
   "id": "cdd71381",
   "metadata": {},
   "outputs": [],
   "source": [
    "## 큐\n",
    "\n",
    "def solution(progresses, speeds):\n",
    "    answer= []\n",
    "    queue = []\n",
    "    \n",
    "    for i in range(len(progresses)):\n",
    "        remain_progress = 100 - progresses[i]\n",
    "        if remain_progress % speeds[i] == 0:\n",
    "            remain_days = remain_progress // speeds[i]\n",
    "        else:\n",
    "            remain_days = remain_progress // speeds[i] + 1\n",
    "        queue.append(remain_days)\n",
    "    print(queue)\n",
    "    print()\n",
    "    while(len(queue) > 0):\n",
    "        for i in range(len(queue)):\n",
    "            now = queue.pop(0)\n",
    "            print(now)\n",
    "            print(queue)\n",
    "            if now > queue[i]:\n",
    "                answer.append(1)\n",
    "                answer[-1] += 1\n",
    "                queue.remove(i)\n",
    "            else:\n",
    "                answer.append(1)\n",
    "            print(answer)\n",
    "            print()\n",
    "                \n",
    "    print(answer)"
   ]
  },
  {
   "cell_type": "code",
   "execution_count": 20,
   "id": "f0f01eb2",
   "metadata": {},
   "outputs": [
    {
     "name": "stdout",
     "output_type": "stream",
     "text": [
      "[7, 3, 9]\n",
      "\n",
      "7\n",
      "[3, 9]\n",
      "[2]\n",
      "\n",
      "3\n",
      "[9]\n"
     ]
    },
    {
     "ename": "IndexError",
     "evalue": "list index out of range",
     "output_type": "error",
     "traceback": [
      "\u001b[1;31m---------------------------------------------------------------------------\u001b[0m",
      "\u001b[1;31mIndexError\u001b[0m                                Traceback (most recent call last)",
      "\u001b[1;32mC:\\Users\\Public\\Documents\\ESTsoft\\CreatorTemp/ipykernel_9928/836971135.py\u001b[0m in \u001b[0;36m<module>\u001b[1;34m\u001b[0m\n\u001b[1;32m----> 1\u001b[1;33m \u001b[0msolution\u001b[0m\u001b[1;33m(\u001b[0m\u001b[1;33m[\u001b[0m\u001b[1;36m93\u001b[0m\u001b[1;33m,\u001b[0m \u001b[1;36m30\u001b[0m\u001b[1;33m,\u001b[0m \u001b[1;36m55\u001b[0m\u001b[1;33m]\u001b[0m\u001b[1;33m,\u001b[0m\u001b[1;33m[\u001b[0m\u001b[1;36m1\u001b[0m\u001b[1;33m,\u001b[0m \u001b[1;36m30\u001b[0m\u001b[1;33m,\u001b[0m \u001b[1;36m5\u001b[0m\u001b[1;33m]\u001b[0m\u001b[1;33m)\u001b[0m\u001b[1;33m\u001b[0m\u001b[1;33m\u001b[0m\u001b[0m\n\u001b[0m",
      "\u001b[1;32mC:\\Users\\Public\\Documents\\ESTsoft\\CreatorTemp/ipykernel_9928/432145202.py\u001b[0m in \u001b[0;36msolution\u001b[1;34m(progresses, speeds)\u001b[0m\n\u001b[0;32m     19\u001b[0m             \u001b[0mprint\u001b[0m\u001b[1;33m(\u001b[0m\u001b[0mnow\u001b[0m\u001b[1;33m)\u001b[0m\u001b[1;33m\u001b[0m\u001b[1;33m\u001b[0m\u001b[0m\n\u001b[0;32m     20\u001b[0m             \u001b[0mprint\u001b[0m\u001b[1;33m(\u001b[0m\u001b[0mqueue\u001b[0m\u001b[1;33m)\u001b[0m\u001b[1;33m\u001b[0m\u001b[1;33m\u001b[0m\u001b[0m\n\u001b[1;32m---> 21\u001b[1;33m             \u001b[1;32mif\u001b[0m \u001b[0mnow\u001b[0m \u001b[1;33m>\u001b[0m \u001b[0mqueue\u001b[0m\u001b[1;33m[\u001b[0m\u001b[0mi\u001b[0m\u001b[1;33m]\u001b[0m\u001b[1;33m:\u001b[0m\u001b[1;33m\u001b[0m\u001b[1;33m\u001b[0m\u001b[0m\n\u001b[0m\u001b[0;32m     22\u001b[0m                 \u001b[0manswer\u001b[0m\u001b[1;33m.\u001b[0m\u001b[0mappend\u001b[0m\u001b[1;33m(\u001b[0m\u001b[1;36m1\u001b[0m\u001b[1;33m)\u001b[0m\u001b[1;33m\u001b[0m\u001b[1;33m\u001b[0m\u001b[0m\n\u001b[0;32m     23\u001b[0m                 \u001b[0manswer\u001b[0m\u001b[1;33m[\u001b[0m\u001b[1;33m-\u001b[0m\u001b[1;36m1\u001b[0m\u001b[1;33m]\u001b[0m \u001b[1;33m+=\u001b[0m \u001b[1;36m1\u001b[0m\u001b[1;33m\u001b[0m\u001b[1;33m\u001b[0m\u001b[0m\n",
      "\u001b[1;31mIndexError\u001b[0m: list index out of range"
     ]
    }
   ],
   "source": [
    "solution([93, 30, 55],[1, 30, 5])"
   ]
  },
  {
   "cell_type": "code",
   "execution_count": 34,
   "id": "360c9bd1",
   "metadata": {},
   "outputs": [],
   "source": [
    "from queue import PriorityQueue\n",
    "\n",
    "q = PriorityQueue() \n",
    "def solution(priorities, location):\n",
    "    answer = []\n",
    "    for prior in priorities:\n",
    "        q.put((-prior, prior))\n",
    "    \n",
    "    for _ in range(len(priorities)):\n",
    "        answer.append(q.get()[1])\n",
    "    print(answer)    \n",
    "    return answer.index(priorities[location])\n",
    "    "
   ]
  },
  {
   "cell_type": "code",
   "execution_count": 35,
   "id": "59424e52",
   "metadata": {},
   "outputs": [
    {
     "name": "stdout",
     "output_type": "stream",
     "text": [
      "[3, 2, 2, 1]\n",
      "0\n",
      "[9, 1, 1, 1, 1, 1]\n",
      "1\n",
      "[5, 4, 3, 2, 1]\n",
      "0\n"
     ]
    }
   ],
   "source": [
    "print(solution([2, 1, 3, 2],2))\n",
    "print(solution([1, 1, 9, 1, 1, 1],0))\n",
    "print(solution([5,4,3,2,1],0))"
   ]
  },
  {
   "cell_type": "code",
   "execution_count": 29,
   "id": "1fd51e7a",
   "metadata": {},
   "outputs": [
    {
     "name": "stdout",
     "output_type": "stream",
     "text": [
      "3\n",
      "2\n",
      "2\n",
      "1\n"
     ]
    }
   ],
   "source": [
    "from queue import PriorityQueue\n",
    "\n",
    "q = PriorityQueue() \n",
    "\n",
    "for prior in [2, 1, 3, 2]:\n",
    "    q.put((-prior, prior))\n",
    "print(q.get()[1])\n",
    "print(q.get()[1])\n",
    "print(q.get()[1])\n",
    "print(q.get()[1])"
   ]
  },
  {
   "cell_type": "code",
   "execution_count": 36,
   "id": "c975ffe3",
   "metadata": {},
   "outputs": [
    {
     "data": {
      "text/plain": [
       "[(0, 2), (1, 1), (2, 3), (3, 2)]"
      ]
     },
     "execution_count": 36,
     "metadata": {},
     "output_type": "execute_result"
    }
   ],
   "source": [
    "queue =  [(i,p) for i,p in enumerate([2, 1, 3, 2])]\n",
    "queue"
   ]
  },
  {
   "cell_type": "code",
   "execution_count": 49,
   "id": "716208a4",
   "metadata": {},
   "outputs": [],
   "source": [
    "from queue import PriorityQueue\n",
    "\n",
    "q = PriorityQueue() \n",
    "def solution(priorities, location):\n",
    "    answer = []\n",
    "    for index, prior in enumerate(priorities):\n",
    "        q.put((prior, index))\n",
    "    print(q.get())\n",
    "    print(q.get())\n",
    "    print(q.get())\n",
    "    print(q.get())    "
   ]
  },
  {
   "cell_type": "code",
   "execution_count": 95,
   "id": "883f77c4",
   "metadata": {},
   "outputs": [],
   "source": [
    "def solution(priorities, location):\n",
    "    queue =  [(i,p) for i,p in enumerate(priorities)]\n",
    "    answer = 0\n",
    "    print(queue)  # [(0, 2), (1, 1), (2, 3), (3, 2)]\n",
    "    while True:\n",
    "        cur = queue.pop(0)\n",
    "        print(cur)   # (0,2)\n",
    "        for q in queue:\n",
    "            if cur[1] < q[1]:   # 방금 꺼낸 프로세스의 우선순위 , q[1] : 대기 중인 것 중 우선순위가 더 높은 프로세스의 우선순위\n",
    "                queue.append(cur)   # cur: 방금 꺼낸 프로세스  (방금 꺼낸 프로세스를 다시 집어넣기)\n",
    "                break\n",
    "        else:    # 만약 그런 프로세스가 없다면 방금 꺼낸 프로세스를 실행합니다. (결국 대기 중에서 가장 우선순위 높은 튜)\n",
    "            answer += 1\n",
    "            if cur[0] == location:\n",
    "                return answer"
   ]
  },
  {
   "cell_type": "code",
   "execution_count": 92,
   "id": "0715af07",
   "metadata": {},
   "outputs": [],
   "source": [
    "def solution(priorities, location):\n",
    "    queue =  [(i,p) for i,p in enumerate(priorities)]\n",
    "    answer = 0\n",
    "    print(queue)  # [(0, 2), (1, 1), (2, 3), (3, 2)]\n",
    "    while True:\n",
    "        cur = queue.pop(0)\n",
    "        print(cur)   # (0,2)\n",
    "        \n",
    "        answer += 1\n",
    "        if cur[0] == location:\n",
    "            return answer"
   ]
  },
  {
   "cell_type": "code",
   "execution_count": 96,
   "id": "87850f34",
   "metadata": {},
   "outputs": [
    {
     "name": "stdout",
     "output_type": "stream",
     "text": [
      "[(0, 2), (1, 1), (2, 3), (3, 2)]\n",
      "(0, 2)\n",
      "(1, 1)\n",
      "(2, 3)\n",
      "1\n"
     ]
    }
   ],
   "source": [
    "# print(solution([5,4,3,2,1],3))\n",
    "print(solution([2, 1, 3, 2],2))"
   ]
  },
  {
   "cell_type": "code",
   "execution_count": 85,
   "id": "6f23a2fd",
   "metadata": {},
   "outputs": [
    {
     "name": "stdout",
     "output_type": "stream",
     "text": [
      "[(1, 1), (2, 3), (3, 2)]\n"
     ]
    }
   ],
   "source": [
    "queue = [(0, 2), (1, 1), (2, 3), (3, 2)]\n",
    "cur = queue.pop(0)\n",
    "for q in queue:\n",
    "    if cur[1] < q[1]:   # 방금 꺼낸 프로세스의 우선순위 , q[1] : 대기 중인 것 중 우선순위가 더 높은 프로세스의 우선순위\n",
    "        queue.append(cur)   # cur: 방금 꺼낸 프로세스  (방금 꺼낸 프로세스를 다시 집어넣기)\n",
    "        break\n",
    "    print(queue)"
   ]
  },
  {
   "cell_type": "code",
   "execution_count": 7,
   "id": "f246489b",
   "metadata": {},
   "outputs": [],
   "source": [
    "def solution(bridge_length, weight, truck_weights):\n",
    "    time = 0\n",
    "    bridge = [0] * bridge_length\n",
    "    currentWeight = 0\n",
    "    while len(truck_weights)!=0:\n",
    "        time+=1\n",
    "        #미리 뺴주어야함 (1초가 지날 때마다 무조건 하나는 빠지므로)\n",
    "        currentWeight -= bridge.pop(0)\n",
    "        \n",
    "        #뺀 이후에 무엇을 넣을지만 고민하면 됨\n",
    "        #만약 sum(bridge) + truck <= weight면 넣어준다.\n",
    "        \n",
    "#         print(f\"sum(bridge): {sum(bridge)}, truck_weights: {truck_weights}\")\n",
    "        \n",
    "        if currentWeight + truck_weights[0] <= weight:\n",
    "            currentWeight += truck_weights[0]\n",
    "            bridge.append(truck_weights.pop(0))\n",
    "        else: #아니면 0을 넣어줌\n",
    "            bridge.append(0)\n",
    "        print(bridge)\n",
    "    #탈출 미리 했으니 후처리\n",
    "    #브릿지 큐에 방금 마지막 트럭이 들어갔으므로, 브릿지 길이만큼 더해줘야함. \n",
    "    time += bridge_length\n",
    "    return(time) "
   ]
  },
  {
   "cell_type": "code",
   "execution_count": 8,
   "id": "92d2fc2f",
   "metadata": {},
   "outputs": [
    {
     "name": "stdout",
     "output_type": "stream",
     "text": [
      "[0, 7]\n",
      "[7, 0]\n",
      "[0, 4]\n",
      "[4, 5]\n",
      "[5, 0]\n",
      "[0, 6]\n",
      "8\n"
     ]
    }
   ],
   "source": [
    "print(solution(2,10,[7,4,5,6]))"
   ]
  },
  {
   "cell_type": "code",
   "execution_count": 6,
   "id": "3f18d141",
   "metadata": {},
   "outputs": [
    {
     "name": "stdout",
     "output_type": "stream",
     "text": [
      "10\n",
      "10\n",
      "deque([10, 10, 10, 10, 10, 10, 10, 10, 10])\n"
     ]
    }
   ],
   "source": [
    "from collections import deque\n",
    "\n",
    "queue = [10,10,10,10,10,10,10,10,10,10]\n",
    "truck_weights = deque([10,10,10,10,10,10,10,10,10,10])\n",
    "\n",
    "print(queue.pop(0))\n",
    "print(truck_weights.popleft())\n",
    "print(truck_weights)"
   ]
  },
  {
   "cell_type": "code",
   "execution_count": 3,
   "id": "4f95a939",
   "metadata": {},
   "outputs": [],
   "source": [
    "from collections import deque\n",
    "\n",
    "def solution(bridge_length, weight, truck_weights):\n",
    "    \n",
    "    time = 0\n",
    "    bridge = deque([0] * bridge_length)\n",
    "    truck_weights = deque(truck_weights)\n",
    "    \n",
    "    currentWeight = 0\n",
    "    while len(truck_weights)!=0:\n",
    "        time+=1\n",
    "        currentWeight -= bridge.popleft()\n",
    "\n",
    "        if currentWeight + truck_weights[0] <= weight:\n",
    "            \n",
    "            bridge.append(truck_weights.popleft())\n",
    "\n",
    "        else: \n",
    "            bridge.append(0)\n",
    "            \n",
    "    time += bridge_length\n",
    "    \n",
    "    return time\n"
   ]
  },
  {
   "cell_type": "code",
   "execution_count": 4,
   "id": "53373ad0",
   "metadata": {},
   "outputs": [
    {
     "name": "stdout",
     "output_type": "stream",
     "text": [
      "8\n"
     ]
    }
   ],
   "source": [
    "print(solution(2,10,[7,4,5,6]))"
   ]
  },
  {
   "cell_type": "code",
   "execution_count": null,
   "id": "ec6abea3",
   "metadata": {},
   "outputs": [],
   "source": [
    "from collections import deque\n",
    "\n",
    "def solution(bridge_length, weight, truck_weights):\n",
    "    \n",
    "    time = 0\n",
    "    bridge = deque([0] * bridge_length)\n",
    "    truck_weights = deque(truck_weights)\n",
    "    \n",
    "    currentWeight = 0\n",
    "    while len(truck_weights)!=0:\n",
    "        time+=1\n",
    "\n",
    "        currentWeight = currentWeight - bridge.popleft()\n",
    "\n",
    "        if currentWeight + truck_weights[0] <= weight:\n",
    "            currentWeight = currentWeight + truck_weights[0]\n",
    "            bridge.append(truck_weights.popleft())\n",
    "\n",
    "        else: \n",
    "            bridge.append(0)\n",
    "            \n",
    "    time += bridge_length\n",
    "    \n",
    "    return time\n",
    "\n",
    "\n"
   ]
  },
  {
   "cell_type": "code",
   "execution_count": 9,
   "id": "f27f8612",
   "metadata": {},
   "outputs": [],
   "source": [
    "def solution(bridge_length, weight, truck_weights):\n",
    "    time = 0\n",
    "    bridge = [0] * bridge_length\n",
    "    \n",
    "    currentWeight = 0\n",
    "    while len(truck_weights)!=0:\n",
    "        time+=1\n",
    "        currentWeight = currentWeight - bridge.pop(0)\n",
    "        \n",
    "        print(f\"currentWeight: {currentWeight}, truck_weights: {truck_weights}\")\n",
    "        \n",
    "        if currentWeight + truck_weights[0] <= weight:\n",
    "            currentWeight += truck_weights[0]\n",
    "            bridge.append(truck_weights.pop(0))\n",
    "        else: #아니면 0을 넣어줌\n",
    "            bridge.append(0)\n",
    "        \n",
    "        print(bridge)\n",
    "        \n",
    "    time += bridge_length\n",
    "    return(time) "
   ]
  },
  {
   "cell_type": "code",
   "execution_count": 10,
   "id": "ea78b5b9",
   "metadata": {},
   "outputs": [
    {
     "name": "stdout",
     "output_type": "stream",
     "text": [
      "currentWeight: 0, truck_weights: [7, 4, 5, 6]\n",
      "[0, 7]\n",
      "currentWeight: 7, truck_weights: [4, 5, 6]\n",
      "[7, 0]\n",
      "currentWeight: 0, truck_weights: [4, 5, 6]\n",
      "[0, 4]\n",
      "currentWeight: 4, truck_weights: [5, 6]\n",
      "[4, 5]\n",
      "currentWeight: 5, truck_weights: [6]\n",
      "[5, 0]\n",
      "currentWeight: 0, truck_weights: [6]\n",
      "[0, 6]\n",
      "8\n"
     ]
    }
   ],
   "source": [
    "print(solution(2,10,[7,4,5,6]))"
   ]
  },
  {
   "cell_type": "code",
   "execution_count": null,
   "id": "1257a681",
   "metadata": {},
   "outputs": [],
   "source": [
    "def solution(bridge_length, weight, truck_weights):\n",
    "    time = 0       # 최초 경과 시간 (0으로 설정)\n",
    "    bridge = [0] * bridge_length\n",
    "    \n",
    "    while len(truck_weights) > 0:  # truck_weights가 []일 때까지 반복\n",
    "        time = time + 1  \n",
    "        bridge.pop(0)  \n",
    "        \n",
    "        # print(f\"sum(bridge): {sum(bridge)}, truck_weights: {truck_weights}\")\n",
    "        \n",
    "        if sum(bridge) + truck_weights[0] <= weight:\n",
    "            bridge.append(truck_weights.pop(0))\n",
    "        else:\n",
    "            bridge.append(0)\n",
    "            \n",
    "        # print(bridge)\n",
    "   \n",
    "    time = time + bridge_length\n",
    "    return(time) "
   ]
  }
 ],
 "metadata": {
  "kernelspec": {
   "display_name": "Python 3 (ipykernel)",
   "language": "python",
   "name": "python3"
  },
  "language_info": {
   "codemirror_mode": {
    "name": "ipython",
    "version": 3
   },
   "file_extension": ".py",
   "mimetype": "text/x-python",
   "name": "python",
   "nbconvert_exporter": "python",
   "pygments_lexer": "ipython3",
   "version": "3.9.7"
  }
 },
 "nbformat": 4,
 "nbformat_minor": 5
}
