{
 "cells": [
  {
   "cell_type": "markdown",
   "id": "27566e25",
   "metadata": {},
   "source": [
    "# 의상"
   ]
  },
  {
   "cell_type": "code",
   "execution_count": 1,
   "id": "11b059d7",
   "metadata": {},
   "outputs": [
    {
     "name": "stdout",
     "output_type": "stream",
     "text": [
      "{'apple': True, 'melon': 10, 'tomato': 0.5}\n"
     ]
    }
   ],
   "source": [
    "book = {}\n",
    "book['apple'] = True\n",
    "book['melon'] = 10\n",
    "book['tomato'] = 0.5\n",
    "\n",
    "print(book)"
   ]
  },
  {
   "cell_type": "code",
   "execution_count": 4,
   "id": "6a5d4a43",
   "metadata": {},
   "outputs": [
    {
     "data": {
      "text/plain": [
       "True"
      ]
     },
     "execution_count": 4,
     "metadata": {},
     "output_type": "execute_result"
    }
   ],
   "source": [
    "'apple' in book"
   ]
  },
  {
   "cell_type": "code",
   "execution_count": 8,
   "id": "742f24e8",
   "metadata": {},
   "outputs": [
    {
     "data": {
      "text/plain": [
       "10"
      ]
     },
     "execution_count": 8,
     "metadata": {},
     "output_type": "execute_result"
    }
   ],
   "source": [
    "book['melon']"
   ]
  },
  {
   "cell_type": "code",
   "execution_count": 11,
   "id": "dfde1b63",
   "metadata": {},
   "outputs": [
    {
     "name": "stdout",
     "output_type": "stream",
     "text": [
      "119\n",
      "1\n",
      "1\n",
      "9\n",
      "97674223\n",
      "9\n",
      "7\n",
      "6\n",
      "7\n",
      "4\n",
      "2\n",
      "2\n",
      "3\n",
      "1195524421\n",
      "1\n",
      "1\n",
      "9\n",
      "5\n",
      "5\n",
      "2\n",
      "4\n",
      "4\n",
      "2\n",
      "1\n"
     ]
    },
    {
     "data": {
      "text/plain": [
       "False"
      ]
     },
     "execution_count": 11,
     "metadata": {},
     "output_type": "execute_result"
    }
   ],
   "source": [
    "def solution(phone_book):\n",
    "    answer = True\n",
    "    for i in phone_book:\n",
    "        print(i)\n",
    "        temp =''\n",
    "        for j in i:\n",
    "            print(j)\n",
    "            temp += j\n",
    "#             print(temp)\n",
    "            if temp in phone_book and temp != i:\n",
    "                answer = False\n",
    "    return answer\n",
    "\n",
    "solution([\"119\", \"97674223\", \"1195524421\"])"
   ]
  },
  {
   "cell_type": "code",
   "execution_count": null,
   "id": "868fdcb2",
   "metadata": {},
   "outputs": [],
   "source": []
  }
 ],
 "metadata": {
  "kernelspec": {
   "display_name": "Python 3 (ipykernel)",
   "language": "python",
   "name": "python3"
  },
  "language_info": {
   "codemirror_mode": {
    "name": "ipython",
    "version": 3
   },
   "file_extension": ".py",
   "mimetype": "text/x-python",
   "name": "python",
   "nbconvert_exporter": "python",
   "pygments_lexer": "ipython3",
   "version": "3.9.7"
  }
 },
 "nbformat": 4,
 "nbformat_minor": 5
}
