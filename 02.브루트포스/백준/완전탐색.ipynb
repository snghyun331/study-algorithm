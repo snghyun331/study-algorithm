{
 "cells": [
  {
   "attachments": {},
   "cell_type": "markdown",
   "metadata": {},
   "source": [
    "# 브루트포스(모든 경우의 수 대입)"
   ]
  },
  {
   "attachments": {},
   "cell_type": "markdown",
   "metadata": {},
   "source": [
    "## 기본 예제(시간복잡도)  \n",
    "**Q.  N개의 수를 입력 받아서 두 수를 뽑아 합이 가장 클 때는?**     \n",
    "**(시간제한: 1초, 입력: 2 <= N <= 1,000,000)**  \n",
    "\n",
    "완전탐색으로 풀 경우, nC2(조합) → n(n-1)/2 → O(N^2)이므로 시간초과 발생   \n",
    "**정렬**로 풀면(작은 수 부터 정렬한 뒤, 맨 끝값과 바로 이전 값을 더한다) 시간복잡도는 O(NlogN)\n"
   ]
  },
  {
   "attachments": {},
   "cell_type": "markdown",
   "metadata": {},
   "source": [
    "## 순열(모든 경우의 수 구하기)  \n",
    "→ permutations(순열)모듈, combinations(조합)모듈"
   ]
  },
  {
   "cell_type": "code",
   "execution_count": 4,
   "metadata": {},
   "outputs": [
    {
     "name": "stdout",
     "output_type": "stream",
     "text": [
      "(0, 1, 2)\n",
      "(0, 1, 3)\n",
      "(0, 2, 1)\n",
      "(0, 2, 3)\n",
      "(0, 3, 1)\n",
      "(0, 3, 2)\n",
      "(1, 0, 2)\n",
      "(1, 0, 3)\n",
      "(1, 2, 0)\n",
      "(1, 2, 3)\n",
      "(1, 3, 0)\n",
      "(1, 3, 2)\n",
      "(2, 0, 1)\n",
      "(2, 0, 3)\n",
      "(2, 1, 0)\n",
      "(2, 1, 3)\n",
      "(2, 3, 0)\n",
      "(2, 3, 1)\n",
      "(3, 0, 1)\n",
      "(3, 0, 2)\n",
      "(3, 1, 0)\n",
      "(3, 1, 2)\n",
      "(3, 2, 0)\n",
      "(3, 2, 1)\n"
     ]
    }
   ],
   "source": [
    "from itertools import permutations\n",
    "\n",
    "v = [0,1,2,3]\n",
    "\n",
    "for i in permutations(v, 3):\n",
    "    print(i)"
   ]
  },
  {
   "cell_type": "code",
   "execution_count": 5,
   "metadata": {},
   "outputs": [
    {
     "name": "stdout",
     "output_type": "stream",
     "text": [
      "(0, 1, 2)\n",
      "(0, 1, 3)\n",
      "(0, 2, 3)\n",
      "(1, 2, 3)\n"
     ]
    }
   ],
   "source": [
    "from itertools import combinations\n",
    "\n",
    "v = [0,1,2,3]\n",
    "\n",
    "for i in combinations(v, 3):\n",
    "    print(i)"
   ]
  },
  {
   "attachments": {},
   "cell_type": "markdown",
   "metadata": {},
   "source": [
    "## **#2309 일곱난쟁이** \n",
    "https://www.acmicpc.net/problem/2309       \n",
    "**9개의 수 중에서 합이 100이 되는 7개의 수를 찾아라**   \n",
    "→ 9C2(조합)으로 모든 경우의 수를 구한 다음, 합이 100이 되는 경우를 찾기\n"
   ]
  },
  {
   "cell_type": "code",
   "execution_count": 9,
   "metadata": {},
   "outputs": [
    {
     "name": "stdout",
     "output_type": "stream",
     "text": [
      "(20, 7, 23, 19, 10, 15, 25)\n",
      "(20, 7, 23, 19, 10, 15, 8)\n",
      "(20, 7, 23, 19, 10, 15, 13)\n",
      "(20, 7, 23, 19, 10, 25, 8)\n",
      "(20, 7, 23, 19, 10, 25, 13)\n",
      "(20, 7, 23, 19, 10, 8, 13)\n",
      "(20, 7, 23, 19, 15, 25, 8)\n",
      "(20, 7, 23, 19, 15, 25, 13)\n",
      "(20, 7, 23, 19, 15, 8, 13)\n",
      "(20, 7, 23, 19, 25, 8, 13)\n",
      "(20, 7, 23, 10, 15, 25, 8)\n",
      "(20, 7, 23, 10, 15, 25, 13)\n",
      "(20, 7, 23, 10, 15, 8, 13)\n",
      "(20, 7, 23, 10, 25, 8, 13)\n",
      "(20, 7, 23, 15, 25, 8, 13)\n",
      "(20, 7, 19, 10, 15, 25, 8)\n",
      "(20, 7, 19, 10, 15, 25, 13)\n",
      "(20, 7, 19, 10, 15, 8, 13)\n",
      "(20, 7, 19, 10, 25, 8, 13)\n",
      "(20, 7, 19, 15, 25, 8, 13)\n",
      "(20, 7, 10, 15, 25, 8, 13)\n",
      "(20, 23, 19, 10, 15, 25, 8)\n",
      "(20, 23, 19, 10, 15, 25, 13)\n",
      "(20, 23, 19, 10, 15, 8, 13)\n",
      "(20, 23, 19, 10, 25, 8, 13)\n",
      "(20, 23, 19, 15, 25, 8, 13)\n",
      "(20, 23, 10, 15, 25, 8, 13)\n",
      "(20, 19, 10, 15, 25, 8, 13)\n",
      "(7, 23, 19, 10, 15, 25, 8)\n",
      "(7, 23, 19, 10, 15, 25, 13)\n",
      "(7, 23, 19, 10, 15, 8, 13)\n",
      "(7, 23, 19, 10, 25, 8, 13)\n",
      "(7, 23, 19, 15, 25, 8, 13)\n",
      "(7, 23, 10, 15, 25, 8, 13)\n",
      "(7, 19, 10, 15, 25, 8, 13)\n",
      "(23, 19, 10, 15, 25, 8, 13)\n"
     ]
    }
   ],
   "source": [
    "from itertools import combinations\n",
    "\n",
    "heights = [int(input()) for _ in range(9)]  \n",
    "\n",
    "for combi in combinations(heights, 7):\n",
    "    print(combi)"
   ]
  },
  {
   "cell_type": "code",
   "execution_count": 10,
   "metadata": {},
   "outputs": [
    {
     "name": "stdout",
     "output_type": "stream",
     "text": [
      "7\n",
      "8\n",
      "10\n",
      "13\n",
      "19\n",
      "20\n",
      "23\n"
     ]
    }
   ],
   "source": [
    "# 정답\n",
    "from itertools import combinations\n",
    "\n",
    "heights = [int(input()) for _ in range(9)]  \n",
    "\n",
    "for combi in combinations(heights, 7):\n",
    "    if sum(combi) == 100:\n",
    "        for height in sorted(combi):\n",
    "            print(height)\n",
    "            \n",
    "        break  # 중요! (\"가능한 정답이 여러 가지인 경우에는 아무거나 출력한다. 답을 하나만 출력\" → 답이 하나 출력되었으면 바로 프로그램 종료)"
   ]
  },
  {
   "attachments": {},
   "cell_type": "markdown",
   "metadata": {},
   "source": [
    "**이중 반복문으로 풀 경우...**"
   ]
  },
  {
   "cell_type": "code",
   "execution_count": null,
   "metadata": {},
   "outputs": [],
   "source": [
    "# 정답 (그러나 시간이 위의 것보다 오래 걸림)\n",
    "\n",
    "heights = [int(input()) for _ in range(9)]\n",
    "heights.sort()\n",
    "\n",
    "def f():\n",
    "    total = sum(heights)\n",
    "    for i in range(8):\n",
    "        for j in range(i+1, 9):\n",
    "            if total - heights[i] - heights[j] == 100:  # 9명의 키의 합에서 어떤 2명의 키를 뺐더니 100이 될 때,\n",
    "                for k in range(9):\n",
    "                    if i != k and j != k:   # k는 i와 j를 제외한 나머지 얘들\n",
    "                        print(heights[k])\n",
    "                        \n",
    "                return    # 함수를 정의하면, 한번 답을 구하면 return을 이용하여 바로 끝낼 수 있다.\n",
    "            \n",
    "f()"
   ]
  },
  {
   "cell_type": "code",
   "execution_count": null,
   "metadata": {},
   "outputs": [],
   "source": [
    "heights = [int(input()) for _ in range(9)]\n",
    "heights.sort()\n",
    "\n",
    "total = sum(heights)\n",
    "for i in range(8):\n",
    "    for j in range(i+1, 9):\n",
    "        if total - heights[i] - heights[j] == 100:  # 9명의 키의 합에서 어떤 2명의 키를 뺐더니 100이 될 때,\n",
    "            for k in range(9):\n",
    "                if i != k and j != k:   # k는 i와 j를 제외한 나머지 얘들\n",
    "                    print(heights[k])\n",
    "\n",
    "            exit()  # 이 위치에서 바로 프로그램 종료"
   ]
  }
 ],
 "metadata": {
  "kernelspec": {
   "display_name": "base",
   "language": "python",
   "name": "python3"
  },
  "language_info": {
   "codemirror_mode": {
    "name": "ipython",
    "version": 3
   },
   "file_extension": ".py",
   "mimetype": "text/x-python",
   "name": "python",
   "nbconvert_exporter": "python",
   "pygments_lexer": "ipython3",
   "version": "3.9.7 (default, Sep 16 2021, 16:59:28) [MSC v.1916 64 bit (AMD64)]"
  },
  "orig_nbformat": 4,
  "vscode": {
   "interpreter": {
    "hash": "ad2bdc8ecc057115af97d19610ffacc2b4e99fae6737bb82f5d7fb13d2f2c186"
   }
  }
 },
 "nbformat": 4,
 "nbformat_minor": 2
}
