{
 "cells": [
  {
   "cell_type": "markdown",
   "id": "266765da",
   "metadata": {},
   "source": [
    "# 완전탐색"
   ]
  },
  {
   "cell_type": "markdown",
   "id": "1cc5b2f0",
   "metadata": {},
   "source": [
    "## 피로도"
   ]
  },
  {
   "cell_type": "code",
   "execution_count": 13,
   "id": "57c3299b",
   "metadata": {},
   "outputs": [],
   "source": [
    "import itertools\n",
    "\n",
    "def solution(k, dungeons):\n",
    "    permutation_list = list(itertools.permutations(dungeons))\n",
    "    \n",
    "    answer = []\n",
    "    for p in permutation_list:\n",
    "        total = len(dungeons)\n",
    "        k_copy = k\n",
    "        for i, j in p:\n",
    "            print(f'k:{k_copy}, i:{i}, j:{j}')\n",
    "            \n",
    "            if i > k_copy:\n",
    "                total -= 1\n",
    "                break\n",
    "            else:\n",
    "                k_copy = k_copy-j\n",
    "                \n",
    "        print(f\"total: {total}\")\n",
    "        answer.append(total)\n",
    "    print()\n",
    "    print(max(answer))\n"
   ]
  },
  {
   "cell_type": "code",
   "execution_count": 14,
   "id": "d3bcb7fd",
   "metadata": {},
   "outputs": [
    {
     "name": "stdout",
     "output_type": "stream",
     "text": [
      "k:80, i:80, j:20\n",
      "k:60, i:50, j:40\n",
      "k:20, i:30, j:10\n",
      "total: 2\n",
      "k:80, i:80, j:20\n",
      "k:60, i:30, j:10\n",
      "k:50, i:50, j:40\n",
      "total: 3\n",
      "k:80, i:50, j:40\n",
      "k:40, i:80, j:20\n",
      "total: 2\n",
      "k:80, i:50, j:40\n",
      "k:40, i:30, j:10\n",
      "k:30, i:80, j:20\n",
      "total: 2\n",
      "k:80, i:30, j:10\n",
      "k:70, i:80, j:20\n",
      "total: 2\n",
      "k:80, i:30, j:10\n",
      "k:70, i:50, j:40\n",
      "k:30, i:80, j:20\n",
      "total: 2\n",
      "\n",
      "3\n"
     ]
    }
   ],
   "source": [
    "solution(80, [[80, 20], [50, 40], [30, 10]])"
   ]
  },
  {
   "cell_type": "code",
   "execution_count": 19,
   "id": "97a55481",
   "metadata": {},
   "outputs": [],
   "source": [
    "import itertools\n",
    "\n",
    "def solution(k, dungeons):\n",
    "    permutation_list = list(itertools.permutations(dungeons))\n",
    "    \n",
    "    answer = []\n",
    "    for p in permutation_list:\n",
    "        total = 0\n",
    "        k_copy = k\n",
    "        for i, j in p:\n",
    "            print(f'k:{k_copy}, i:{i}, j:{j}')\n",
    "            \n",
    "            if i > k_copy:\n",
    "                \n",
    "                break\n",
    "            else:\n",
    "                k_copy = k_copy-j\n",
    "                total += 1\n",
    "                \n",
    "        print(f\"total: {total}\")\n",
    "        answer.append(total)\n",
    "    print()\n",
    "    print(max(answer))\n"
   ]
  },
  {
   "cell_type": "code",
   "execution_count": 20,
   "id": "c2be8890",
   "metadata": {},
   "outputs": [
    {
     "name": "stdout",
     "output_type": "stream",
     "text": [
      "k:20, i:80, j:20\n",
      "total: 0\n",
      "k:20, i:80, j:20\n",
      "total: 0\n",
      "k:20, i:50, j:40\n",
      "total: 0\n",
      "k:20, i:50, j:40\n",
      "total: 0\n",
      "k:20, i:30, j:10\n",
      "total: 0\n",
      "k:20, i:30, j:10\n",
      "total: 0\n",
      "\n",
      "0\n"
     ]
    }
   ],
   "source": [
    "solution(20, [[80, 20], [50, 40], [30, 10]])"
   ]
  },
  {
   "cell_type": "code",
   "execution_count": 26,
   "id": "c0795011",
   "metadata": {},
   "outputs": [],
   "source": [
    "import itertools\n",
    "\n",
    "def solution(k, dungeons):\n",
    "    permutation_list = list(itertools.permutations(dungeons))\n",
    "\n",
    "    answer = []\n",
    "    for p in permutation_list:\n",
    "        total = 0\n",
    "        k_copy = k\n",
    "        for i, j in p:\n",
    "            print(f'k:{k_copy}, i:{i}, j:{j}')\n",
    "            \n",
    "            if i > k_copy:\n",
    "                \n",
    "                break\n",
    "            else:\n",
    "                k_copy = k_copy-j\n",
    "                total += 1\n",
    "        answer.append(total)\n",
    "    print(answer)\n",
    "    print(max(answer))\n"
   ]
  },
  {
   "cell_type": "code",
   "execution_count": 27,
   "id": "68b440ca",
   "metadata": {},
   "outputs": [
    {
     "name": "stdout",
     "output_type": "stream",
     "text": [
      "k:80, i:80, j:20\n",
      "k:60, i:50, j:40\n",
      "k:20, i:30, j:10\n",
      "k:80, i:80, j:20\n",
      "k:60, i:30, j:10\n",
      "k:50, i:50, j:40\n",
      "k:80, i:50, j:40\n",
      "k:40, i:80, j:20\n",
      "k:80, i:50, j:40\n",
      "k:40, i:30, j:10\n",
      "k:30, i:80, j:20\n",
      "k:80, i:30, j:10\n",
      "k:70, i:80, j:20\n",
      "k:80, i:30, j:10\n",
      "k:70, i:50, j:40\n",
      "k:30, i:80, j:20\n",
      "[2, 3, 1, 2, 1, 2]\n",
      "3\n"
     ]
    }
   ],
   "source": [
    "solution(80, [[80, 20], [50, 40], [30, 10]])"
   ]
  },
  {
   "cell_type": "code",
   "execution_count": null,
   "id": "96d2dc69",
   "metadata": {},
   "outputs": [],
   "source": []
  }
 ],
 "metadata": {
  "kernelspec": {
   "display_name": "Python 3 (ipykernel)",
   "language": "python",
   "name": "python3"
  },
  "language_info": {
   "codemirror_mode": {
    "name": "ipython",
    "version": 3
   },
   "file_extension": ".py",
   "mimetype": "text/x-python",
   "name": "python",
   "nbconvert_exporter": "python",
   "pygments_lexer": "ipython3",
   "version": "3.9.7"
  }
 },
 "nbformat": 4,
 "nbformat_minor": 5
}
